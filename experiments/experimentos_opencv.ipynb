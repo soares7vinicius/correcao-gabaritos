{
 "cells": [
  {
   "cell_type": "code",
   "execution_count": 40,
   "metadata": {},
   "outputs": [
    {
     "name": "stdout",
     "output_type": "stream",
     "text": [
      "content.png\n",
      "edges.png\n",
      "modelo2.png\n",
      "modelo.png\n",
      "out.png\n",
      "out_semfiltro.png\n",
      "out_slices.png\n",
      "pdf_to_png.ipynb\n"
     ]
    }
   ],
   "source": [
    "! ls | grep -i png"
   ]
  },
  {
   "cell_type": "code",
   "execution_count": 41,
   "metadata": {
    "pycharm": {
     "is_executing": true
    }
   },
   "outputs": [],
   "source": [
    "# https://docs.opencv.org/3.4/dd/d1a/group__imgproc__feature.html#ga47849c3be0d0406ad3ca45db65a25d2d"
   ]
  },
  {
   "cell_type": "code",
   "execution_count": 42,
   "metadata": {
    "pycharm": {
     "is_executing": true
    }
   },
   "outputs": [],
   "source": [
    "# ! conda remove opencv\n",
    "# ! conda install -c menpo opencv\n",
    "# ! pip install --upgrade pip\n",
    "# ! pip install opencv-contrib-python"
   ]
  },
  {
   "cell_type": "code",
   "execution_count": 43,
   "metadata": {},
   "outputs": [],
   "source": [
    "import cv2\n",
    "\n",
    "import numpy as np\n",
    "import matplotlib.pyplot as plt"
   ]
  },
  {
   "cell_type": "code",
   "execution_count": 44,
   "metadata": {},
   "outputs": [],
   "source": [
    "img = cv2.imread('samples/1.png',)\n",
    "img = cv2.cvtColor(img, cv2.COLOR_BGR2GRAY)\n",
    "height, width = img.shape"
   ]
  },
  {
   "cell_type": "code",
   "execution_count": 45,
   "metadata": {},
   "outputs": [],
   "source": [
    "factor = 0.5\n",
    "\n",
    "height = int(height * factor)\n",
    "width = int(width * factor)\n",
    "min_circle_radius = int(20 * factor)\n",
    "max_circle_radius = int(25 * factor)"
   ]
  },
  {
   "cell_type": "code",
   "execution_count": 46,
   "metadata": {},
   "outputs": [],
   "source": [
    "# n_height, n_width = int(width/factor), int(height/factor)\n",
    "img = cv2.resize(img, (width, height))\n",
    "_, img = cv2.threshold(img, 240, 255, cv2.THRESH_BINARY)\n",
    "# img = cv2.adaptiveThreshold(img,255,cv2.ADAPTIVE_THRESH_GAUSSIAN_C, cv2.THRESH_BINARY,11,2)"
   ]
  },
  {
   "cell_type": "code",
   "execution_count": 47,
   "metadata": {},
   "outputs": [],
   "source": [
    "# plt.figure(figsize=(10, 12))\n",
    "# plt.imshow(img, aspect=\"auto\")\n",
    "\n",
    "# cv2.imshow(\"modelo\", img)\n",
    "# cv2.waitKey(0)\n",
    "# cv2.destroyAllWindows()"
   ]
  },
  {
   "cell_type": "code",
   "execution_count": 48,
   "metadata": {},
   "outputs": [
    {
     "name": "stdout",
     "output_type": "stream",
     "text": [
      "8\n"
     ]
    }
   ],
   "source": [
    "# finding lines\n",
    "import math\n",
    "import numpy as np\n",
    "\n",
    "dst = cv2.Canny(img, 300, 400, None, 3)\n",
    "lines = cv2.HoughLines(\n",
    "    image=dst, \n",
    "    rho=1,\n",
    "    theta=np.pi/2, \n",
    "    threshold=210,\n",
    "    min_theta=np.pi/2,\n",
    "    max_theta=np.pi,\n",
    ")\n",
    "print(len(lines))\n",
    "\n",
    "colored = cv2.cvtColor(img, cv2.COLOR_GRAY2BGR)\n",
    "if lines is not None:\n",
    "    for i in range(0, len(lines)):\n",
    "        rho = lines[i][0][0]\n",
    "        theta = lines[i][0][1]\n",
    "        a = math.cos(theta)\n",
    "        b = math.sin(theta)\n",
    "        x0 = a * rho\n",
    "        y0 = b * rho\n",
    "        pt1 = (int(x0 + 1000*(-b)), int(y0 + 1000*(a)))\n",
    "        pt2 = (int(x0 - 1000*(-b)), int(y0 - 1000*(a)))\n",
    "#         if theta >= (75/180.0)*np.pi and theta <= (110/180.0)*np.pi:\n",
    "#             color = (0, 0, 0)\n",
    "#             cv2.rectangle(img, pt1, (pt2[0]-50, pt2[1]-50), color, -1)\n",
    "#             cv2.rectangle(img, pt1, (pt2[0]+50, pt2[1]+50), color, -1)\n",
    "#         else:\n",
    "#             color = (0, 0, 0)\n",
    "#             cv2.rectangle(img, pt1, (pt2[0]-50, pt2[1]-50), color, -1)\n",
    "        cv2.line(colored, pt1, pt2, (0, 0, 255), 1, cv2.LINE_AA)\n",
    "\n",
    "\n",
    "# cv2.imshow(\"modelo\", colored)\n",
    "# cv2.waitKey(0)\n",
    "# cv2.destroyAllWindows()"
   ]
  },
  {
   "cell_type": "code",
   "execution_count": 49,
   "metadata": {},
   "outputs": [],
   "source": [
    "lines = [line[0][0] for line in lines]\n",
    "lines = [line for line in lines if line <= height/3]\n",
    "lines = sorted(lines, reverse=True)\n",
    "divisor_line = int(lines[0])"
   ]
  },
  {
   "cell_type": "code",
   "execution_count": 50,
   "metadata": {},
   "outputs": [
    {
     "data": {
      "text/plain": [
       "203"
      ]
     },
     "execution_count": 50,
     "metadata": {},
     "output_type": "execute_result"
    }
   ],
   "source": [
    "divisor_line"
   ]
  },
  {
   "cell_type": "code",
   "execution_count": 51,
   "metadata": {},
   "outputs": [],
   "source": [
    "header = img[:divisor_line, :]\n",
    "content = img[divisor_line:, :]"
   ]
  },
  {
   "cell_type": "code",
   "execution_count": 52,
   "metadata": {},
   "outputs": [
    {
     "data": {
      "text/plain": [
       "22"
      ]
     },
     "execution_count": 52,
     "metadata": {},
     "output_type": "execute_result"
    }
   ],
   "source": [
    "int((2*min_circle_radius) + (5*factor))"
   ]
  },
  {
   "cell_type": "code",
   "execution_count": 53,
   "metadata": {},
   "outputs": [
    {
     "name": "stdout",
     "output_type": "stream",
     "text": [
      "(1, 600, 3)\n"
     ]
    }
   ],
   "source": [
    "circles = cv2.HoughCircles(\n",
    "    image=content, \n",
    "    method=cv2.HOUGH_GRADIENT, \n",
    "    dp=1, \n",
    "    minDist=int((2*min_circle_radius) + (5*factor)), \n",
    "    param1=200, \n",
    "    param2=7,\n",
    "    minRadius=min_circle_radius, \n",
    "    maxRadius=max_circle_radius\n",
    ")\n",
    "# print(circles)\n",
    "print(circles.shape)\n",
    "# content.shape"
   ]
  },
  {
   "cell_type": "code",
   "execution_count": 54,
   "metadata": {},
   "outputs": [],
   "source": [
    "# from sklearn.cluster import KMeans\n",
    "\n",
    "# circles = np.round(circles[0, :]).astype(\"int\")\n",
    "    \n",
    "# xs = []\n",
    "# ys = []\n",
    "# for c in circles:\n",
    "#     ys.append(c[0])\n",
    "#     xs.append(c[1])\n",
    "\n",
    "\n",
    "# xs = np.array(xs).reshape(-1, 1)\n",
    "# kmeans_x = KMeans(n_clusters=30, max_iter=50).fit(xs)\n",
    "# centers_x = np.round(kmeans_x.cluster_centers_).astype(\"int\")\n",
    "\n",
    "# ys = np.array(ys).reshape(-1, 1)\n",
    "# kmeans_y = KMeans(n_clusters=20, max_iter=50).fit(ys)\n",
    "# centers_y = np.round(kmeans_y.cluster_centers_).astype(\"int\")\n",
    "\n",
    "# ncircles = []\n",
    "# for c in circles:\n",
    "#     y = min(centers_y, key=lambda v: abs(v - c[0]))[0]\n",
    "#     x = min(centers_x, key=lambda v: abs(v - c[1]))[0]\n",
    "#     ncircles.append([y, x, c[2]])\n",
    "\n",
    "\n",
    "# circles = sorted(ncircles, key=lambda v: [v[0], v[1]])"
   ]
  },
  {
   "cell_type": "code",
   "execution_count": 55,
   "metadata": {},
   "outputs": [],
   "source": [
    "circles = np.round(circles[0, :]).astype(\"int\")\n",
    "circles = sorted(circles, key=lambda v: [v[0], v[1]])\n",
    "\n",
    "NUM_ROWS = 30\n",
    "\n",
    "sorted_cols = []\n",
    "for k in range(0, len(circles), NUM_ROWS):\n",
    "    col = circles[k : k + NUM_ROWS]\n",
    "    sorted_cols.extend(sorted(col, key=lambda v: v[1]))\n",
    "\n",
    "circles = sorted_cols"
   ]
  },
  {
   "cell_type": "code",
   "execution_count": 56,
   "metadata": {},
   "outputs": [
    {
     "data": {
      "text/plain": [
       "(10, 12)"
      ]
     },
     "execution_count": 56,
     "metadata": {},
     "output_type": "execute_result"
    }
   ],
   "source": [
    "min_circle_radius, max_circle_radius"
   ]
  },
  {
   "cell_type": "code",
   "execution_count": 57,
   "metadata": {},
   "outputs": [
    {
     "data": {
      "text/plain": [
       "(10, 11)"
      ]
     },
     "execution_count": 57,
     "metadata": {},
     "output_type": "execute_result"
    }
   ],
   "source": [
    "radii = [c[2] for c in circles]\n",
    "min(radii), max(radii)"
   ]
  },
  {
   "cell_type": "code",
   "execution_count": 58,
   "metadata": {},
   "outputs": [],
   "source": [
    "def points_in_circle_np(radius, x0=0, y0=0, ):\n",
    "    x_ = np.arange(x0 - radius - 1, x0 + radius + 1, dtype=int)\n",
    "    y_ = np.arange(y0 - radius - 1, y0 + radius + 1, dtype=int)\n",
    "    x, y = np.where((x_[:,np.newaxis] - x0)**2 + (y_ - y0)**2 <= radius**2)\n",
    "    # x, y = np.where((np.hypot((x_-x0)[:,np.newaxis], y_-y0)<= radius)) # alternative implementation\n",
    "    for x, y in zip(x_[x], y_[y]):\n",
    "        yield x, y\n",
    "\n",
    "def points_mode_value(img, points):\n",
    "    values = [img[y, x] for y, x in points]\n",
    "    mode = max(set(values), key=values.count)\n",
    "    return mode"
   ]
  },
  {
   "cell_type": "code",
   "execution_count": 59,
   "metadata": {},
   "outputs": [],
   "source": [
    "# img_colored = cv2.cvtColor(content, cv2.COLOR_GRAY2BGR)\n",
    "# for i in range(0, 150):\n",
    "#     y, x, r = circles_sorted[0][i]\n",
    "#     cv2.circle(img_colored, (y, x), r, (255, 0, 0), -1)\n",
    "\n",
    "# cv2.imshow(\"modelo\", img_colored)\n",
    "# cv2.waitKey(0)\n",
    "# cv2.destroyAllWindows()"
   ]
  },
  {
   "cell_type": "code",
   "execution_count": 66,
   "metadata": {},
   "outputs": [],
   "source": [
    "# criando sequencia da passagem vertical das questoes\n",
    "# 1, ..., 15, 61, ..., 75, 16, ..., 30, ...\n",
    "seq = []\n",
    "q = 1        \n",
    "for _ in range(1, 121):\n",
    "    seq.append(q)\n",
    "    if q % 15 == 0:\n",
    "        if q > 60:\n",
    "            q -= 59\n",
    "        else:\n",
    "            q += 46\n",
    "    else:\n",
    "        q += 1\n",
    "    \n",
    "# dividindo sequencia em 4 grupos\n",
    "# cada grupo é replicado em 5 vezes conseguintes, criando a sequencia final de 600 posicoes\n",
    "nseq = []\n",
    "for chunk in np.array_split(seq, 4):\n",
    "    a = np.concatenate([chunk for _ in range(0, 5)])\n",
    "    nseq += list(a)\n",
    "\n",
    "# identificando alternativa a cada valor da sequencia\n",
    "alt_i = 0\n",
    "alt = \"ABCDE\"\n",
    "for i in range(len(nseq)):\n",
    "    nseq[i] = (nseq[i], alt[alt_i])\n",
    "    \n",
    "    if (i+1) % 30 == 0:\n",
    "        if alt_i == 4:\n",
    "            alt_i = 0\n",
    "        else:\n",
    "            alt_i += 1"
   ]
  },
  {
   "cell_type": "code",
   "execution_count": 67,
   "metadata": {},
   "outputs": [],
   "source": [
    "ans = {i: [] for i in range(1, 121)}"
   ]
  },
  {
   "cell_type": "code",
   "execution_count": 68,
   "metadata": {
    "pycharm": {
     "is_executing": true
    }
   },
   "outputs": [
    {
     "data": {
      "text/plain": [
       "True"
      ]
     },
     "execution_count": 68,
     "metadata": {},
     "output_type": "execute_result"
    }
   ],
   "source": [
    "img_colored = cv2.cvtColor(content, cv2.COLOR_GRAY2BGR)\n",
    "\n",
    "# circles = circles_sorted\n",
    "\n",
    "if circles is not None:\n",
    "    circles = np.uint16(np.around(circles))\n",
    "    for cont, i in enumerate(circles, start=0):\n",
    "        points = points_in_circle_np(x0=i[1], y0=i[0], radius=i[2])\n",
    "        mode = points_mode_value(content, points)\n",
    "        \n",
    "        if mode == 255:\n",
    "            cv2.circle(img_colored, (i[0], i[1]), i[2], (0, 0, 255), -1) # cv2.FILLED)\n",
    "        else:\n",
    "            cv2.circle(img_colored, (i[0], i[1]), i[2], (0, 255, 0), -1) # cv2.FILLED)\n",
    "            ans[nseq[cont][0]].append(nseq[cont][1])\n",
    "            \n",
    "        cv2.putText(img_colored, str(cont+1), (i[0]-i[2], i[1]+i[2]), cv2.FONT_HERSHEY_SIMPLEX, 0.4, (0,0,0), 1, cv2.LINE_AA)\n",
    "            \n",
    "\n",
    "\n",
    "# for i in range(0, 67):\n",
    "#     y, x, r = circles[0][i]\n",
    "#     cv2.circle(img_colored, (y, x), r, (255, 0, 0), -1)\n",
    "\n",
    "\n",
    "cv2.imwrite(\"out.png\", img_colored)"
   ]
  },
  {
   "cell_type": "code",
   "execution_count": 69,
   "metadata": {},
   "outputs": [
    {
     "data": {
      "text/plain": [
       "True"
      ]
     },
     "execution_count": 69,
     "metadata": {},
     "output_type": "execute_result"
    }
   ],
   "source": [
    "cv2.imwrite(\"content.png\", content)"
   ]
  },
  {
   "cell_type": "code",
   "execution_count": 70,
   "metadata": {},
   "outputs": [],
   "source": [
    "# cv2.imshow(\"modelo\", img_colored)\n",
    "# cv2.waitKey(0)\n",
    "\n",
    "# cv2.destroyAllWindows()"
   ]
  },
  {
   "cell_type": "code",
   "execution_count": 71,
   "metadata": {},
   "outputs": [],
   "source": [
    "from operator import itemgetter\n",
    "\n",
    "ans = list(ans.items())\n",
    "ans = sorted(ans, key=itemgetter(0))\n",
    "# ans"
   ]
  },
  {
   "cell_type": "code",
   "execution_count": 72,
   "metadata": {},
   "outputs": [
    {
     "data": {
      "text/plain": [
       "[(1, ['D']),\n",
       " (2, ['B']),\n",
       " (3, ['C']),\n",
       " (4, ['B']),\n",
       " (5, ['C']),\n",
       " (6, ['B', 'C', 'D']),\n",
       " (7, ['D']),\n",
       " (8, ['B']),\n",
       " (9, ['A']),\n",
       " (10, ['B']),\n",
       " (11, ['C', 'D']),\n",
       " (12, ['B']),\n",
       " (13, ['D']),\n",
       " (14, ['B']),\n",
       " (15, ['E']),\n",
       " (16, []),\n",
       " (17, []),\n",
       " (18, []),\n",
       " (19, []),\n",
       " (20, []),\n",
       " (21, []),\n",
       " (22, []),\n",
       " (23, []),\n",
       " (24, []),\n",
       " (25, []),\n",
       " (26, []),\n",
       " (27, []),\n",
       " (28, []),\n",
       " (29, []),\n",
       " (30, []),\n",
       " (31, []),\n",
       " (32, []),\n",
       " (33, []),\n",
       " (34, []),\n",
       " (35, []),\n",
       " (36, []),\n",
       " (37, []),\n",
       " (38, []),\n",
       " (39, []),\n",
       " (40, []),\n",
       " (41, []),\n",
       " (42, []),\n",
       " (43, []),\n",
       " (44, []),\n",
       " (45, []),\n",
       " (46, []),\n",
       " (47, []),\n",
       " (48, []),\n",
       " (49, []),\n",
       " (50, []),\n",
       " (51, []),\n",
       " (52, []),\n",
       " (53, []),\n",
       " (54, []),\n",
       " (55, []),\n",
       " (56, []),\n",
       " (57, []),\n",
       " (58, []),\n",
       " (59, []),\n",
       " (60, []),\n",
       " (61, []),\n",
       " (62, []),\n",
       " (63, []),\n",
       " (64, []),\n",
       " (65, []),\n",
       " (66, []),\n",
       " (67, []),\n",
       " (68, []),\n",
       " (69, []),\n",
       " (70, []),\n",
       " (71, []),\n",
       " (72, []),\n",
       " (73, []),\n",
       " (74, []),\n",
       " (75, []),\n",
       " (76, []),\n",
       " (77, []),\n",
       " (78, []),\n",
       " (79, []),\n",
       " (80, []),\n",
       " (81, []),\n",
       " (82, []),\n",
       " (83, []),\n",
       " (84, []),\n",
       " (85, []),\n",
       " (86, []),\n",
       " (87, []),\n",
       " (88, []),\n",
       " (89, []),\n",
       " (90, []),\n",
       " (91, []),\n",
       " (92, []),\n",
       " (93, []),\n",
       " (94, []),\n",
       " (95, []),\n",
       " (96, []),\n",
       " (97, []),\n",
       " (98, []),\n",
       " (99, []),\n",
       " (100, []),\n",
       " (101, []),\n",
       " (102, []),\n",
       " (103, []),\n",
       " (104, []),\n",
       " (105, []),\n",
       " (106, []),\n",
       " (107, []),\n",
       " (108, []),\n",
       " (109, []),\n",
       " (110, []),\n",
       " (111, []),\n",
       " (112, []),\n",
       " (113, []),\n",
       " (114, []),\n",
       " (115, []),\n",
       " (116, []),\n",
       " (117, []),\n",
       " (118, []),\n",
       " (119, []),\n",
       " (120, [])]"
      ]
     },
     "execution_count": 72,
     "metadata": {},
     "output_type": "execute_result"
    }
   ],
   "source": [
    "ans"
   ]
  },
  {
   "cell_type": "code",
   "execution_count": null,
   "metadata": {
    "pycharm": {
     "is_executing": true
    }
   },
   "outputs": [],
   "source": [
    "# img_colored = cv2.resize(img_colored, (423, 550))\n",
    "cv2.imshow(\"modelo\", img_colored)\n",
    "cv2.waitKey(0)\n",
    "cv2.destroyAllWindows()"
   ]
  },
  {
   "cell_type": "markdown",
   "metadata": {},
   "source": [
    "## header"
   ]
  },
  {
   "cell_type": "code",
   "execution_count": null,
   "metadata": {
    "pycharm": {
     "is_executing": true
    }
   },
   "outputs": [],
   "source": [
    "# https://docs.opencv.org/2.4/modules/imgproc/doc/structural_analysis_and_shape_descriptors.html\n",
    "# https://docs.opencv.org/master/d9/d8b/tutorial_py_contours_hierarchy.html"
   ]
  },
  {
   "cell_type": "code",
   "execution_count": null,
   "metadata": {
    "pycharm": {
     "is_executing": true
    }
   },
   "outputs": [],
   "source": [
    "header = img[:divisor_line, :]"
   ]
  },
  {
   "cell_type": "code",
   "execution_count": null,
   "metadata": {
    "pycharm": {
     "is_executing": true
    }
   },
   "outputs": [],
   "source": [
    "cv2.imshow(\"modelo\", header)\n",
    "cv2.waitKey(0)\n",
    "cv2.destroyAllWindows()"
   ]
  },
  {
   "cell_type": "code",
   "execution_count": null,
   "metadata": {
    "pycharm": {
     "is_executing": true
    }
   },
   "outputs": [],
   "source": [
    "contours, hierarchy = cv2.findContours(header, cv2.RETR_CCOMP, cv2.CHAIN_APPROX_SIMPLE)\n",
    "contours_area = []\n",
    "# hie = [h for h in hierarchy[0] if h[2] == -1 and h[3] == 0]\n",
    "\n",
    "\n",
    "header_colored = cv2.cvtColor(header, cv2.COLOR_GRAY2BGR)\n",
    "for contour in contours:\n",
    "#     approx = contour\n",
    "    peri = cv2.arcLength(contour, True)\n",
    "    approx = cv2.approxPolyDP(contour, 0.04 * peri, True)\n",
    "    contours_area.append((cv2.contourArea(approx), approx))\n",
    "    if contours_area[-1][0] > 300 and contours_area[-1][0] < 1000:\n",
    "        (x,y,w,h) = cv2.boundingRect(approx)\n",
    "        cv2.rectangle(header_colored, (x,y), (x+w,y+h), (255,0,0), 2)"
   ]
  },
  {
   "cell_type": "code",
   "execution_count": null,
   "metadata": {
    "pycharm": {
     "is_executing": true
    }
   },
   "outputs": [],
   "source": [
    "cv2.imshow(\"modelo\", header_colored)\n",
    "cv2.waitKey(0)\n",
    "cv2.destroyAllWindows()"
   ]
  },
  {
   "cell_type": "code",
   "execution_count": null,
   "metadata": {
    "pycharm": {
     "is_executing": true
    }
   },
   "outputs": [],
   "source": [
    "# hierarchy"
   ]
  },
  {
   "cell_type": "code",
   "execution_count": null,
   "metadata": {
    "pycharm": {
     "is_executing": true
    }
   },
   "outputs": [],
   "source": [
    "len(contours), len(contours_area)"
   ]
  },
  {
   "cell_type": "code",
   "execution_count": null,
   "metadata": {
    "pycharm": {
     "is_executing": true
    }
   },
   "outputs": [],
   "source": [
    "areas = sorted([a for a, c in contours_area], reverse=True)\n",
    "contours_area = [ca for ca in contours_area if ca[0] > 600 and ca[0] < 1000]"
   ]
  },
  {
   "cell_type": "code",
   "execution_count": null,
   "metadata": {
    "pycharm": {
     "is_executing": true
    }
   },
   "outputs": [],
   "source": [
    "areas[1:13]"
   ]
  },
  {
   "cell_type": "code",
   "execution_count": null,
   "metadata": {
    "pycharm": {
     "is_executing": true
    }
   },
   "outputs": [],
   "source": [
    "header_colored = cv2.cvtColor(header, cv2.COLOR_GRAY2BGR)\n",
    "for _, cont in contours_area:\n",
    "    (x,y,w,h) = cv2.boundingRect(approx)\n",
    "    cv2.rectangle(header_colored, (x,y), (x+w,y+h), (255,0,0), 2)"
   ]
  },
  {
   "cell_type": "code",
   "execution_count": null,
   "metadata": {
    "pycharm": {
     "is_executing": true
    }
   },
   "outputs": [],
   "source": [
    "sorted(contours_area, reverse=True)[1:14]"
   ]
  },
  {
   "cell_type": "code",
   "execution_count": null,
   "metadata": {
    "pycharm": {
     "is_executing": true
    }
   },
   "outputs": [],
   "source": [
    "mode = max(set(contours_area), key=contours_area.count) # achando area moda\n",
    "\n",
    "boxes = [contour for contour, area in zip(contours, contours_area) if area == mode]\n",
    "mode"
   ]
  },
  {
   "cell_type": "code",
   "execution_count": null,
   "metadata": {
    "pycharm": {
     "is_executing": true
    }
   },
   "outputs": [],
   "source": [
    "header_colored = cv2.cvtColor(header, cv2.COLOR_GRAY2BGR)\n",
    "for box in boxes:\n",
    "    (x,y,w,h) = cv2.boundingRect(box)\n",
    "    cv2.rectangle(header_colored, (x,y), (x+w,y+h), (0,0,255), 2)"
   ]
  },
  {
   "cell_type": "code",
   "execution_count": null,
   "metadata": {
    "pycharm": {
     "is_executing": true
    }
   },
   "outputs": [],
   "source": [
    "cv2.imshow(\"modelo\", header_colored)\n",
    "cv2.waitKey(0)\n",
    "cv2.destroyAllWindows()"
   ]
  },
  {
   "cell_type": "code",
   "execution_count": null,
   "metadata": {
    "pycharm": {
     "is_executing": true
    }
   },
   "outputs": [],
   "source": [
    "from sklearn.cluster import KMeans\n",
    "\n",
    "areas = np.array(contours_area).reshape(-1, 1)\n",
    "# areas"
   ]
  },
  {
   "cell_type": "code",
   "execution_count": null,
   "metadata": {
    "pycharm": {
     "is_executing": true
    }
   },
   "outputs": [],
   "source": [
    "np.set_printoptions(suppress=True)\n",
    "kmeans = KMeans(n_clusters=10, random_state=0).fit(areas)\n",
    "\n",
    "kmeans.cluster_centers_, kmeans.labels_"
   ]
  },
  {
   "cell_type": "code",
   "execution_count": null,
   "metadata": {
    "pycharm": {
     "is_executing": true
    }
   },
   "outputs": [],
   "source": [
    "keys = set(kmeans.labels_)\n",
    "rep = {k: 0 for k in keys}\n",
    "\n",
    "for lbl in kmeans.labels_:\n",
    "    rep[lbl] = rep[lbl] + 1\n",
    "    \n",
    "rep"
   ]
  }
 ],
 "metadata": {
  "kernelspec": {
   "display_name": "Python 3",
   "language": "python",
   "name": "python3"
  },
  "language_info": {
   "codemirror_mode": {
    "name": "ipython",
    "version": 3
   },
   "file_extension": ".py",
   "mimetype": "text/x-python",
   "name": "python",
   "nbconvert_exporter": "python",
   "pygments_lexer": "ipython3",
   "version": "3.7.7"
  }
 },
 "nbformat": 4,
 "nbformat_minor": 4
}
