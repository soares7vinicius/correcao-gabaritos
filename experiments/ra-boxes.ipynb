{
 "cells": [
  {
   "cell_type": "code",
   "execution_count": 1,
   "metadata": {},
   "outputs": [],
   "source": [
    "import cv2\n",
    "import numpy as np\n",
    "import skimage\n",
    "from skimage.exposure import histogram"
   ]
  },
  {
   "cell_type": "code",
   "execution_count": 2,
   "metadata": {},
   "outputs": [
    {
     "data": {
      "text/plain": [
       "('4.1.1', '0.17.1')"
      ]
     },
     "execution_count": 2,
     "metadata": {},
     "output_type": "execute_result"
    }
   ],
   "source": [
    "cv2.__version__, skimage.__version__"
   ]
  },
  {
   "cell_type": "code",
   "execution_count": 661,
   "metadata": {},
   "outputs": [],
   "source": [
    "image = cv2.imread(\"warped.png\")\n",
    "image = cv2.cvtColor(image, cv2.COLOR_BGR2GRAY)\n",
    "h, w = image.shape"
   ]
  },
  {
   "cell_type": "code",
   "execution_count": 647,
   "metadata": {},
   "outputs": [
    {
     "name": "stdout",
     "output_type": "stream",
     "text": [
      "(23, 363)\n",
      "33\n",
      "33.0 3\n"
     ]
    },
    {
     "data": {
      "text/plain": [
       "True"
      ]
     },
     "execution_count": 647,
     "metadata": {},
     "output_type": "execute_result"
    }
   ],
   "source": [
    "boxes = image[int(h * 0.102) : int(h * 0.13), int(w * 0.118) : int(w * 0.747)]\n",
    "\n",
    "print(boxes.shape)\n",
    "\n",
    "offset = int(boxes.shape[1] // 11)\n",
    "print(offset)\n",
    "\n",
    "boxes.shape[1] % 11\n",
    "\n",
    "print(363 / 11, 366 % 11)\n",
    "\n",
    "box = boxes[:, offset * 10 : offset * 11]\n",
    "\n",
    "cv2.imwrite(\"box.png\", box)"
   ]
  },
  {
   "cell_type": "code",
   "execution_count": 727,
   "metadata": {},
   "outputs": [
    {
     "data": {
      "image/png": "[encoded data removed]",
      "text/plain": [
       "<Figure size 432x288 with 1 Axes>"
      ]
     },
     "metadata": {},
     "output_type": "display_data"
    },
    {
     "data": {
      "image/png": "[encoded data removed]",
      "text/plain": [
       "<Figure size 432x288 with 1 Axes>"
      ]
     },
     "metadata": {},
     "output_type": "display_data"
    }
   ],
   "source": [
    "image = cv2.imread(\"warped.png\")\n",
    "image = cv2.cvtColor(image, cv2.COLOR_BGR2GRAY)\n",
    "h, w = image.shape\n",
    "\n",
    "boxes_area = image[int(h * 0.095) : int(h * 0.14), int(w * 0.09) : int(w * 0.77)]\n",
    "cv2.imwrite(\"boxes.png\", boxes_area)\n",
    "\n",
    "from matplotlib import pyplot as plt\n",
    "from skimage import measure\n",
    "from skimage.feature import corner_harris, corner_peaks, corner_subpix\n",
    "\n",
    "coords = corner_peaks(corner_harris(boxes_area), min_distance=5, threshold_rel=0.1)\n",
    "# coords_subpix = corner_subpix(boxes_area, coords, window_size=10)\n",
    "\n",
    "\n",
    "fig, ax = plt.subplots()\n",
    "ax.imshow(boxes_area, cmap=plt.cm.gray)\n",
    "ax.plot(\n",
    "    coords[:, 1], coords[:, 0], color=\"cyan\", marker=\"o\", linestyle=\"None\", markersize=6\n",
    ")\n",
    "# ax.plot(coords_subpix[:, 1], coords_subpix[:, 0], '+r', markersize=15)\n",
    "ax.axis()\n",
    "ax.set_xticks([])\n",
    "ax.set_yticks([])\n",
    "plt.show()\n",
    "\n",
    "miny, maxy = min(coords[:, 0]), max(coords[:, 0])\n",
    "minx, maxx = min(coords[:, 1]), max(coords[:, 1])\n",
    "\n",
    "box = boxes_area[miny:maxy, minx:maxx]\n",
    "\n",
    "\n",
    "# contours = measure.find_contours(box, 250, fully_connected='low')\n",
    "# print(len(contours))\n",
    "# digits = []\n",
    "# for cnt in contours:\n",
    "#     approx = measure.approximate_polygon(cnt, 16)\n",
    "#     if 4 <= len(approx) <= 7:\n",
    "#         digits.append(cnt)\n",
    "# contours = digits\n",
    "# print(len(contours))\n",
    "\n",
    "\n",
    "fig, ax = plt.subplots()\n",
    "ax.imshow(box, cmap=plt.cm.gray)\n",
    "\n",
    "# for contour in contours:\n",
    "#     ax.plot(contour[:, 1], contour[:, 0], linewidth=2)\n",
    "\n",
    "ax.axis()\n",
    "ax.set_xticks([])\n",
    "ax.set_yticks([])\n",
    "plt.show()\n",
    "\n",
    "# offset = int(box.shape[1] // 11)\n",
    "# print(offset)\n",
    "\n",
    "# box.shape[1] % 11\n",
    "\n",
    "# print(363 / 11, 366 % 11)\n",
    "\n",
    "# box = box[:, offset * 10 : offset * 11]\n",
    "\n",
    "# cv2.imwrite(\"box.png\", box)"
   ]
  },
  {
   "cell_type": "code",
   "execution_count": 730,
   "metadata": {},
   "outputs": [
    {
     "data": {
      "text/plain": [
       "True"
      ]
     },
     "execution_count": 730,
     "metadata": {},
     "output_type": "execute_result"
    }
   ],
   "source": [
    "lines = cv2.HoughLinesP(\n",
    "    image=box,\n",
    "    rho=1,\n",
    "    theta=np.pi / 180,\n",
    "    threshold=100,\n",
    "    lines=np.array([]),\n",
    "    minLineLength=box.shape[0]*0.8,\n",
    "    maxLineGap=box.shape[1]//11 - 5,\n",
    ")\n",
    "\n",
    "box_lines = box.copy()\n",
    "a, b, c = lines.shape\n",
    "for i in range(a):\n",
    "    cv2.line(\n",
    "        box_lines,\n",
    "        (lines[i][0][0], lines[i][0][1]),\n",
    "        (lines[i][0][2], lines[i][0][3]),\n",
    "        (0, 0, 255),\n",
    "        3,\n",
    "        cv2.LINE_AA,\n",
    "    )\n",
    "cv2.imwrite(\"lines.png\", box_lines)"
   ]
  },
  {
   "cell_type": "code",
   "execution_count": 684,
   "metadata": {},
   "outputs": [
    {
     "name": "stdout",
     "output_type": "stream",
     "text": [
      "30\n",
      "12\n"
     ]
    },
    {
     "data": {
      "image/png": "[encoded data removed]",
      "text/plain": [
       "<Figure size 432x288 with 1 Axes>"
      ]
     },
     "metadata": {},
     "output_type": "display_data"
    }
   ],
   "source": [
    "image = cv2.imread(\"warped.png\")\n",
    "image = cv2.cvtColor(image, cv2.COLOR_BGR2GRAY)\n",
    "h, w = image.shape\n",
    "\n",
    "boxes_area = image[int(h * 0.095) : int(h * 0.14), int(w * 0.09) : int(w * 0.77)]\n",
    "cv2.imwrite(\"boxes.png\", boxes_area)\n",
    "\n",
    "from matplotlib import pyplot as plt\n",
    "from skimage import measure\n",
    "\n",
    "contours = measure.find_contours(boxes_area, 250, fully_connected=\"high\")\n",
    "print(len(contours))\n",
    "boxes = []\n",
    "for cnt in contours:\n",
    "    approx = measure.approximate_polygon(cnt, 16)\n",
    "    if 4 <= len(approx) <= 6:\n",
    "        boxes.append(cnt)\n",
    "contours = boxes\n",
    "print(len(contours))\n",
    "\n",
    "\n",
    "def contour_area(cnt):\n",
    "    # Expand numpy dimmensions\n",
    "    c = np.expand_dims(cnt.astype(np.float32), 1)\n",
    "    # Convert it to UMat object\n",
    "    c = cv2.UMat(c)\n",
    "    return cv2.contourArea(c)\n",
    "\n",
    "\n",
    "contours.sort(key=lambda c: contour_area(c), reverse=True)\n",
    "contour = contours[0]\n",
    "\n",
    "# Display the image and plot all contours found\n",
    "fig, ax = plt.subplots()\n",
    "ax.imshow(boxes_area, cmap=plt.cm.gray)\n",
    "\n",
    "ax.plot(contour[:, 1], contour[:, 0], linewidth=2)\n",
    "# for n, contour in enumerate(contours):\n",
    "#     ax.plot(contour[:, 1], contour[:, 0], linewidth=2)\n",
    "\n",
    "ax.axis(\"image\")\n",
    "ax.set_xticks([])\n",
    "ax.set_yticks([])\n",
    "plt.show()"
   ]
  },
  {
   "cell_type": "code",
   "execution_count": 652,
   "metadata": {},
   "outputs": [
    {
     "name": "stdout",
     "output_type": "stream",
     "text": [
      "0 0\n"
     ]
    },
    {
     "data": {
      "text/plain": [
       "True"
      ]
     },
     "execution_count": 652,
     "metadata": {},
     "output_type": "execute_result"
    }
   ],
   "source": [
    "boxes_area = image[int(h * 0.095) : int(h * 0.14), int(w * 0.09) : int(w * 0.77)]\n",
    "cv2.imwrite(\"boxes.png\", boxes_area)\n",
    "\n",
    "boxes_blank = cv2.imread(\"boxes_blank.png\")\n",
    "boxes_blank = cv2.cvtColor(boxes_blank, cv2.COLOR_BGR2GRAY)\n",
    "boxes_blank = cv2.resize(boxes_blank, boxes_area.shape)\n",
    "\n",
    "MAX_FEATURES = 500\n",
    "GOOD_MATCH_PERCENT = 0.15\n",
    "\n",
    "# Detect ORB features and compute descriptors.\n",
    "orb = cv2.ORB_create(nfeatures=MAX_FEATURES)  # , fastThreshold=1, edgeThreshold=1)\n",
    "keypoints1, descriptors1 = orb.detectAndCompute(boxes_area, None)\n",
    "keypoints2, descriptors2 = orb.detectAndCompute(boxes_blank, None)\n",
    "print(len(keypoints1), len(keypoints2))\n",
    "\n",
    "# Match features.\n",
    "matcher = cv2.DescriptorMatcher_create(cv2.DESCRIPTOR_MATCHER_BRUTEFORCE_HAMMING)\n",
    "matches = matcher.match(descriptors1, descriptors2, None)\n",
    "\n",
    "# Sort matches by score\n",
    "matches.sort(key=lambda x: x.distance, reverse=False)\n",
    "\n",
    "# Remove not so good matches\n",
    "numGoodMatches = int(len(matches) * GOOD_MATCH_PERCENT)\n",
    "matches = matches[:numGoodMatches]\n",
    "\n",
    "# Draw top matches\n",
    "imMatches = cv2.drawMatches(\n",
    "    boxes_area, keypoints1, boxes_blank, keypoints2, matches, None\n",
    ")\n",
    "cv2.imwrite(\"matches.png\", imMatches)"
   ]
  },
  {
   "cell_type": "code",
   "execution_count": 653,
   "metadata": {},
   "outputs": [
    {
     "data": {
      "image/png": "[encoded data removed]",
      "text/plain": [
       "<Figure size 432x288 with 1 Axes>"
      ]
     },
     "metadata": {
      "needs_background": "light"
     },
     "output_type": "display_data"
    }
   ],
   "source": [
    "image = cv2.imread(\"warped.png\")\n",
    "image = cv2.cvtColor(image, cv2.COLOR_BGR2GRAY)\n",
    "h, w = image.shape\n",
    "boxes_area = image[int(h * 0.095) : int(h * 0.14), int(w * 0.09) : int(w * 0.77)]\n",
    "h, w = boxes_area.shape\n",
    "cv2.imwrite(\"boxes.png\", boxes_area)\n",
    "\n",
    "boxes_blank = cv2.imread(\"boxes_blank.png\")\n",
    "boxes_blank = cv2.cvtColor(boxes_blank, cv2.COLOR_BGR2GRAY)\n",
    "boxes_blank = cv2.resize(boxes_blank, (w, h))\n",
    "cv2.imwrite(\"boxes_blank_resized.png\", boxes_blank)\n",
    "\n",
    "from matplotlib import pyplot as plt\n",
    "from skimage.feature import corner_harris, corner_peaks, corner_subpix\n",
    "\n",
    "coords = corner_peaks(corner_harris(boxes_blank), min_distance=5, threshold_rel=0.01)\n",
    "coords_subpix = corner_subpix(boxes_blank, coords, window_size=10)\n",
    "\n",
    "\n",
    "fig, ax = plt.subplots()\n",
    "ax.imshow(boxes_blank, cmap=plt.cm.gray)\n",
    "ax.plot(\n",
    "    coords[:, 1], coords[:, 0], color=\"red\", marker=\"o\", linestyle=\"None\", markersize=6\n",
    ")\n",
    "# ax.plot(coords_subpix[:, 1], coords_subpix[:, 0], '+r', markersize=15)\n",
    "ax.axis((0, 400, 50, 0))\n",
    "plt.show()"
   ]
  },
  {
   "cell_type": "code",
   "execution_count": 654,
   "metadata": {},
   "outputs": [
    {
     "data": {
      "text/plain": [
       "True"
      ]
     },
     "execution_count": 654,
     "metadata": {},
     "output_type": "execute_result"
    }
   ],
   "source": [
    "boxes = cv2.imread(\"modelo3.png\")\n",
    "boxes = cv2.cvtColor(boxes, cv2.COLOR_BGR2GRAY)\n",
    "h, w = boxes.shape\n",
    "\n",
    "boxes = boxes[int(0.12 * h) : int(0.165 * h), int(0.135 * w) : int(0.74 * w)]\n",
    "\n",
    "\n",
    "cv2.imwrite(\"boxes_blank.png\", boxes)"
   ]
  },
  {
   "cell_type": "code",
   "execution_count": 655,
   "metadata": {},
   "outputs": [
    {
     "ename": "ValueError",
     "evalue": "scale factor must be greater than 1",
     "output_type": "error",
     "traceback": [
      "\u001b[0;31m---------------------------------------------------------------------------\u001b[0m",
      "\u001b[0;31mValueError\u001b[0m                                Traceback (most recent call last)",
      "\u001b[0;32m<ipython-input-655-f84a7f447f95>\u001b[0m in \u001b[0;36m<module>\u001b[0;34m\u001b[0m\n\u001b[1;32m     22\u001b[0m \u001b[0mdescriptor_extractor\u001b[0m \u001b[0;34m=\u001b[0m \u001b[0mORB\u001b[0m\u001b[0;34m(\u001b[0m\u001b[0mn_keypoints\u001b[0m\u001b[0;34m=\u001b[0m\u001b[0;36m100\u001b[0m\u001b[0;34m,\u001b[0m \u001b[0mharris_k\u001b[0m\u001b[0;34m=\u001b[0m\u001b[0;36m0.01\u001b[0m\u001b[0;34m,\u001b[0m \u001b[0mfast_n\u001b[0m\u001b[0;34m=\u001b[0m\u001b[0;36m2\u001b[0m\u001b[0;34m,\u001b[0m \u001b[0mfast_threshold\u001b[0m\u001b[0;34m=\u001b[0m\u001b[0;36m0.01\u001b[0m\u001b[0;34m,\u001b[0m \u001b[0mdownscale\u001b[0m\u001b[0;34m=\u001b[0m\u001b[0;36m0.8\u001b[0m\u001b[0;34m)\u001b[0m\u001b[0;34m\u001b[0m\u001b[0;34m\u001b[0m\u001b[0m\n\u001b[1;32m     23\u001b[0m \u001b[0;34m\u001b[0m\u001b[0m\n\u001b[0;32m---> 24\u001b[0;31m \u001b[0mdescriptor_extractor\u001b[0m\u001b[0;34m.\u001b[0m\u001b[0mdetect_and_extract\u001b[0m\u001b[0;34m(\u001b[0m\u001b[0mboxes_blank\u001b[0m\u001b[0;34m)\u001b[0m\u001b[0;34m\u001b[0m\u001b[0;34m\u001b[0m\u001b[0m\n\u001b[0m\u001b[1;32m     25\u001b[0m \u001b[0mkeypoints1\u001b[0m \u001b[0;34m=\u001b[0m \u001b[0mdescriptor_extractor\u001b[0m\u001b[0;34m.\u001b[0m\u001b[0mkeypoints\u001b[0m\u001b[0;34m\u001b[0m\u001b[0;34m\u001b[0m\u001b[0m\n\u001b[1;32m     26\u001b[0m \u001b[0mdescriptors1\u001b[0m \u001b[0;34m=\u001b[0m \u001b[0mdescriptor_extractor\u001b[0m\u001b[0;34m.\u001b[0m\u001b[0mdescriptors\u001b[0m\u001b[0;34m\u001b[0m\u001b[0;34m\u001b[0m\u001b[0m\n",
      "\u001b[0;32m~/miniconda3/envs/tcc37/lib/python3.7/site-packages/skimage/feature/orb.py\u001b[0m in \u001b[0;36mdetect_and_extract\u001b[0;34m(self, image)\u001b[0m\n\u001b[1;32m    290\u001b[0m         \u001b[0mcheck_nD\u001b[0m\u001b[0;34m(\u001b[0m\u001b[0mimage\u001b[0m\u001b[0;34m,\u001b[0m \u001b[0;36m2\u001b[0m\u001b[0;34m)\u001b[0m\u001b[0;34m\u001b[0m\u001b[0;34m\u001b[0m\u001b[0m\n\u001b[1;32m    291\u001b[0m \u001b[0;34m\u001b[0m\u001b[0m\n\u001b[0;32m--> 292\u001b[0;31m         \u001b[0mpyramid\u001b[0m \u001b[0;34m=\u001b[0m \u001b[0mself\u001b[0m\u001b[0;34m.\u001b[0m\u001b[0m_build_pyramid\u001b[0m\u001b[0;34m(\u001b[0m\u001b[0mimage\u001b[0m\u001b[0;34m)\u001b[0m\u001b[0;34m\u001b[0m\u001b[0;34m\u001b[0m\u001b[0m\n\u001b[0m\u001b[1;32m    293\u001b[0m \u001b[0;34m\u001b[0m\u001b[0m\n\u001b[1;32m    294\u001b[0m         \u001b[0mkeypoints_list\u001b[0m \u001b[0;34m=\u001b[0m \u001b[0;34m[\u001b[0m\u001b[0;34m]\u001b[0m\u001b[0;34m\u001b[0m\u001b[0;34m\u001b[0m\u001b[0m\n",
      "\u001b[0;32m~/miniconda3/envs/tcc37/lib/python3.7/site-packages/skimage/feature/orb.py\u001b[0m in \u001b[0;36m_build_pyramid\u001b[0;34m(self, image)\u001b[0m\n\u001b[1;32m    134\u001b[0m         \u001b[0mimage\u001b[0m \u001b[0;34m=\u001b[0m \u001b[0m_prepare_grayscale_input_2D\u001b[0m\u001b[0;34m(\u001b[0m\u001b[0mimage\u001b[0m\u001b[0;34m)\u001b[0m\u001b[0;34m\u001b[0m\u001b[0;34m\u001b[0m\u001b[0m\n\u001b[1;32m    135\u001b[0m         return list(pyramid_gaussian(image, self.n_scales - 1,\n\u001b[0;32m--> 136\u001b[0;31m                                      self.downscale, multichannel=False))\n\u001b[0m\u001b[1;32m    137\u001b[0m \u001b[0;34m\u001b[0m\u001b[0m\n\u001b[1;32m    138\u001b[0m     \u001b[0;32mdef\u001b[0m \u001b[0m_detect_octave\u001b[0m\u001b[0;34m(\u001b[0m\u001b[0mself\u001b[0m\u001b[0;34m,\u001b[0m \u001b[0moctave_image\u001b[0m\u001b[0;34m)\u001b[0m\u001b[0;34m:\u001b[0m\u001b[0;34m\u001b[0m\u001b[0;34m\u001b[0m\u001b[0m\n",
      "\u001b[0;32m~/miniconda3/envs/tcc37/lib/python3.7/site-packages/skimage/transform/pyramids.py\u001b[0m in \u001b[0;36mpyramid_gaussian\u001b[0;34m(image, max_layer, downscale, sigma, order, mode, cval, multichannel, preserve_range)\u001b[0m\n\u001b[1;32m    195\u001b[0m \u001b[0;34m\u001b[0m\u001b[0m\n\u001b[1;32m    196\u001b[0m     \"\"\"\n\u001b[0;32m--> 197\u001b[0;31m     \u001b[0m_check_factor\u001b[0m\u001b[0;34m(\u001b[0m\u001b[0mdownscale\u001b[0m\u001b[0;34m)\u001b[0m\u001b[0;34m\u001b[0m\u001b[0;34m\u001b[0m\u001b[0m\n\u001b[0m\u001b[1;32m    198\u001b[0m \u001b[0;34m\u001b[0m\u001b[0m\n\u001b[1;32m    199\u001b[0m     \u001b[0;31m# cast to float for consistent data type in pyramid\u001b[0m\u001b[0;34m\u001b[0m\u001b[0;34m\u001b[0m\u001b[0;34m\u001b[0m\u001b[0m\n",
      "\u001b[0;32m~/miniconda3/envs/tcc37/lib/python3.7/site-packages/skimage/transform/pyramids.py\u001b[0m in \u001b[0;36m_check_factor\u001b[0;34m(factor)\u001b[0m\n\u001b[1;32m     20\u001b[0m \u001b[0;32mdef\u001b[0m \u001b[0m_check_factor\u001b[0m\u001b[0;34m(\u001b[0m\u001b[0mfactor\u001b[0m\u001b[0;34m)\u001b[0m\u001b[0;34m:\u001b[0m\u001b[0;34m\u001b[0m\u001b[0;34m\u001b[0m\u001b[0m\n\u001b[1;32m     21\u001b[0m     \u001b[0;32mif\u001b[0m \u001b[0mfactor\u001b[0m \u001b[0;34m<=\u001b[0m \u001b[0;36m1\u001b[0m\u001b[0;34m:\u001b[0m\u001b[0;34m\u001b[0m\u001b[0;34m\u001b[0m\u001b[0m\n\u001b[0;32m---> 22\u001b[0;31m         \u001b[0;32mraise\u001b[0m \u001b[0mValueError\u001b[0m\u001b[0;34m(\u001b[0m\u001b[0;34m'scale factor must be greater than 1'\u001b[0m\u001b[0;34m)\u001b[0m\u001b[0;34m\u001b[0m\u001b[0;34m\u001b[0m\u001b[0m\n\u001b[0m\u001b[1;32m     23\u001b[0m \u001b[0;34m\u001b[0m\u001b[0m\n\u001b[1;32m     24\u001b[0m \u001b[0;34m\u001b[0m\u001b[0m\n",
      "\u001b[0;31mValueError\u001b[0m: scale factor must be greater than 1"
     ]
    }
   ],
   "source": [
    "from skimage import transform\n",
    "from skimage.feature import (\n",
    "    ORB,\n",
    "    corner_harris,\n",
    "    corner_peaks,\n",
    "    match_descriptors,\n",
    "    plot_matches,\n",
    ")\n",
    "\n",
    "image = cv2.imread(\"warped.png\")\n",
    "image = cv2.cvtColor(image, cv2.COLOR_BGR2GRAY)\n",
    "h, w = image.shape\n",
    "boxes_area = image[int(h * 0.095) : int(h * 0.14), int(w * 0.09) : int(w * 0.77)]\n",
    "h, w = boxes_area.shape\n",
    "cv2.imwrite(\"boxes.png\", boxes_area)\n",
    "\n",
    "boxes_blank = cv2.imread(\"boxes_blank.png\")\n",
    "boxes_blank = cv2.cvtColor(boxes_blank, cv2.COLOR_BGR2GRAY)\n",
    "boxes_blank = cv2.resize(boxes_blank, (w, h))\n",
    "cv2.imwrite(\"boxes_blank_resized.png\", boxes_blank)\n",
    "\n",
    "descriptor_extractor = ORB(\n",
    "    n_keypoints=100, harris_k=0.01, fast_n=2, fast_threshold=0.01, downscale=0.8\n",
    ")\n",
    "\n",
    "descriptor_extractor.detect_and_extract(boxes_blank)\n",
    "keypoints1 = descriptor_extractor.keypoints\n",
    "descriptors1 = descriptor_extractor.descriptors\n",
    "\n",
    "descriptor_extractor.detect_and_extract(boxes_area)\n",
    "keypoints2 = descriptor_extractor.keypoints\n",
    "descriptors2 = descriptor_extractor.descriptors\n",
    "\n",
    "print(len(keypoints1), len(keypoints2))\n",
    "matches12 = match_descriptors(descriptors1, descriptors2, cross_check=True)\n",
    "\n",
    "fig, ax = plt.subplots(nrows=2, ncols=1)\n",
    "\n",
    "plt.gray()\n",
    "\n",
    "plot_matches(ax[0], img1, img2, keypoints1, keypoints2, matches12)\n",
    "ax[0].axis(\"off\")\n",
    "ax[0].set_title(\"Original Image vs. Transformed Image\")\n",
    "\n",
    "# warped = warp(boxes_area, np.array([row_coords + v, col_coords + u]), mode=\"nearest\")\n",
    "# print(warped.shape)\n",
    "# cv2.imwrite(\"boxes.png\", warped)"
   ]
  }
 ],
 "metadata": {
  "kernelspec": {
   "display_name": "Python 3.7.7 64-bit ('tcc37': conda)",
   "language": "python",
   "name": "python37764bittcc37conda3cd215b1253a47d3861beda9852b32bd"
  },
  "language_info": {
   "codemirror_mode": {
    "name": "ipython",
    "version": 3
   },
   "file_extension": ".py",
   "mimetype": "text/x-python",
   "name": "python",
   "nbconvert_exporter": "python",
   "pygments_lexer": "ipython3",
   "version": "3.7.7"
  }
 },
 "nbformat": 4,
 "nbformat_minor": 4
}
