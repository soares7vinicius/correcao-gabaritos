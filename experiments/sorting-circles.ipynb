{
 "cells": [
  {
   "cell_type": "code",
   "execution_count": 55,
   "metadata": {
    "collapsed": true,
    "jupyter": {
     "outputs_hidden": true
    }
   },
   "outputs": [
    {
     "name": "stdout",
     "output_type": "stream",
     "text": [
      "Collecting imutils\n",
      "  Downloading imutils-0.5.3.tar.gz (17 kB)\n",
      "Building wheels for collected packages: imutils\n",
      "  Building wheel for imutils (setup.py) ... \u001b[?25ldone\n",
      "\u001b[?25h  Created wheel for imutils: filename=imutils-0.5.3-py3-none-any.whl size=25850 sha256=5174193c067620bd09aa296e5959d97fa8f3c1b8925170477f96249e3b3894d9\n",
      "  Stored in directory: /home/vinicius/.cache/pip/wheels/fc/9c/6d/1826267c72afa51b564c9c6e0f66abc806879338bc593a2270\n",
      "Successfully built imutils\n",
      "Installing collected packages: imutils\n",
      "Successfully installed imutils-0.5.3\n"
     ]
    }
   ],
   "source": [
    "! pip install imutils"
   ]
  },
  {
   "cell_type": "code",
   "execution_count": 1,
   "metadata": {},
   "outputs": [],
   "source": [
    "import json\n",
    "import numpy as np\n",
    "from sklearn.cluster import KMeans"
   ]
  },
  {
   "cell_type": "code",
   "execution_count": 2,
   "metadata": {},
   "outputs": [],
   "source": [
    "circles = json.load(open(\"circles.json\"))\n"
   ]
  },
  {
   "cell_type": "code",
   "execution_count": 3,
   "metadata": {},
   "outputs": [
    {
     "data": {
      "text/plain": [
       "array([[336, 238,  11],\n",
       "       [280, 290,  11],\n",
       "       [546, 506,  11],\n",
       "       ...,\n",
       "       [182, 238,  10],\n",
       "       [722, 184,  10],\n",
       "       [488, 344,  10]])"
      ]
     },
     "execution_count": 3,
     "metadata": {},
     "output_type": "execute_result"
    }
   ],
   "source": [
    "circles = np.round(circles).astype(\"int\")\n",
    "circles"
   ]
  },
  {
   "cell_type": "code",
   "execution_count": 5,
   "metadata": {},
   "outputs": [],
   "source": [
    "xs = []\n",
    "ys = []\n",
    "for c in circles:\n",
    "    ys.append(c[0])\n",
    "    xs.append(c[1])"
   ]
  },
  {
   "cell_type": "code",
   "execution_count": 23,
   "metadata": {},
   "outputs": [
    {
     "data": {
      "text/plain": [
       "336"
      ]
     },
     "execution_count": 23,
     "metadata": {},
     "output_type": "execute_result"
    }
   ],
   "source": [
    "circles[0][0]"
   ]
  },
  {
   "cell_type": "code",
   "execution_count": 29,
   "metadata": {},
   "outputs": [],
   "source": [
    "xs = np.array(xs).reshape(-1, 1)\n",
    "kmeans_x = KMeans(n_clusters=20, max_iter=50).fit(xs)\n",
    "centers_x = np.round(kmeans_x.cluster_centers_).astype(\"int\")\n",
    "\n",
    "ys = np.array(ys).reshape(-1, 1)\n",
    "kmeans_y = KMeans(n_clusters=30, max_iter=50).fit(ys)\n",
    "centers_y = np.round(kmeans_y.cluster_centers_).astype(\"int\")\n",
    "\n",
    "\n",
    "\n",
    "ncircles = []\n",
    "for c in circles:\n",
    "    y = min(centers_y, key=lambda v: abs(v - c[0]))[0]\n",
    "    x = min(centers_x, key=lambda v: abs(v - c[1]))[0]\n",
    "    ncircles.append([y, x, c[2]])"
   ]
  },
  {
   "cell_type": "code",
   "execution_count": 30,
   "metadata": {},
   "outputs": [],
   "source": [
    "circles = sorted(ncircles, key=lambda v: [v[0], v[1]])"
   ]
  },
  {
   "cell_type": "code",
   "execution_count": 34,
   "metadata": {},
   "outputs": [
    {
     "data": {
      "text/plain": [
       "[[101, 68, 11],\n",
       " [101, 68, 11],\n",
       " [101, 107, 10],\n",
       " [101, 146, 11],\n",
       " [101, 146, 11],\n",
       " [101, 185, 11],\n",
       " [101, 225, 11],\n",
       " [101, 225, 11],\n",
       " [101, 277, 11],\n",
       " [101, 277, 11]]"
      ]
     },
     "execution_count": 34,
     "metadata": {},
     "output_type": "execute_result"
    }
   ],
   "source": [
    "circles[0:10]"
   ]
  }
 ],
 "metadata": {
  "kernelspec": {
   "display_name": "Python 3",
   "language": "python",
   "name": "python3"
  },
  "language_info": {
   "codemirror_mode": {
    "name": "ipython",
    "version": 3
   },
   "file_extension": ".py",
   "mimetype": "text/x-python",
   "name": "python",
   "nbconvert_exporter": "python",
   "pygments_lexer": "ipython3",
   "version": "3.7.7"
  }
 },
 "nbformat": 4,
 "nbformat_minor": 4
}
