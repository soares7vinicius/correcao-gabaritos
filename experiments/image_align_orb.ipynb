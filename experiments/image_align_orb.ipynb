{
 "cells": [
  {
   "cell_type": "code",
   "execution_count": 1,
   "metadata": {},
   "outputs": [],
   "source": [
    "import numpy as np\n",
    "import cv2"
   ]
  },
  {
   "cell_type": "code",
   "execution_count": 2,
   "metadata": {
    "collapsed": false,
    "jupyter": {
     "outputs_hidden": false
    },
    "pycharm": {
     "name": "#%%\n"
    }
   },
   "outputs": [],
   "source": [
    "ref = cv2.imread(\"modelo3.png\")\n",
    "ref = cv2.cvtColor(ref, cv2.COLOR_BGR2GRAY)\n",
    "height, width = ref.shape\n",
    "\n",
    "factor = 1\n",
    "\n",
    "height = int(height * factor)\n",
    "width = int(width * factor)\n",
    "\n",
    "ref = cv2.resize(ref, (width, height))\n",
    "_, ref = cv2.threshold(ref, 240, 255, cv2.THRESH_BINARY)"
   ]
  },
  {
   "cell_type": "code",
   "execution_count": 3,
   "metadata": {
    "collapsed": false,
    "jupyter": {
     "outputs_hidden": false
    },
    "pycharm": {
     "name": "#%%\n"
    }
   },
   "outputs": [],
   "source": [
    "img = cv2.imread(\"../samples/n1.png\")\n",
    "img = cv2.cvtColor(img, cv2.COLOR_BGR2GRAY)\n",
    "height, width = img.shape\n",
    "\n",
    "factor = 1\n",
    "\n",
    "height = int(height * factor)\n",
    "width = int(width * factor)\n",
    "\n",
    "img = cv2.resize(img, (width, height))\n",
    "_, img = cv2.threshold(img, 230, 255, cv2.THRESH_BINARY)\n"
   ]
  },
  {
   "cell_type": "code",
   "execution_count": 4,
   "metadata": {
    "collapsed": false,
    "jupyter": {
     "outputs_hidden": false
    },
    "pycharm": {
     "name": "#%%\n"
    }
   },
   "outputs": [],
   "source": [
    "cv2.imshow(\"modelo\", ref)\n",
    "cv2.waitKey(0)\n",
    "cv2.destroyAllWindows()"
   ]
  },
  {
   "cell_type": "code",
   "execution_count": 6,
   "metadata": {
    "collapsed": false,
    "jupyter": {
     "outputs_hidden": false
    },
    "pycharm": {
     "name": "#%%\n"
    }
   },
   "outputs": [
    {
     "name": "stdout",
     "output_type": "stream",
     "text": [
      "15\n"
     ]
    },
    {
     "data": {
      "text/plain": [
       "True"
      ]
     },
     "execution_count": 6,
     "metadata": {},
     "output_type": "execute_result"
    }
   ],
   "source": [
    "MAX_FEATURES = 500\n",
    "GOOD_MATCH_PERCENT = 0.1\n",
    "\n",
    "orb = cv2.ORB_create(MAX_FEATURES)\n",
    "kp1, desc1 = orb.detectAndCompute(ref, None)\n",
    "kp2, desc2 = orb.detectAndCompute(img, None)\n",
    "\n",
    "matcher = cv2.BFMatcher(cv2.NORM_HAMMING2, crossCheck=True)\n",
    "matches = matcher.match(desc1, desc2, None)\n",
    "\n",
    "matches.sort(key=lambda x: x.distance, reverse=False)\n",
    "\n",
    "num_good_matches = int(len(matches) * GOOD_MATCH_PERCENT)\n",
    "matches = matches[:num_good_matches]\n",
    "print(num_good_matches)\n",
    "\n",
    "im_matches = cv2.drawMatches(ref, kp1, img, kp2, matches, None)\n",
    "cv2.imwrite(\"matches.png\", im_matches)\n",
    "\n",
    "pts1 = np.zeros((len(matches), 2), dtype=np.float32)\n",
    "pts2 = np.zeros((len(matches), 2), dtype=np.float32)\n",
    "\n",
    "for i, match in enumerate(matches):\n",
    "    pts1[i, :] = kp1[match.queryIdx].pt\n",
    "    pts2[i, :] = kp2[match.queryIdx].pt\n",
    "\n",
    "h, mask = cv2.findHomography(pts1, pts2, cv2.RANSAC)\n",
    "\n",
    "height, width = ref.shape\n",
    "img_reg = cv2.warpPerspective(img, h, (width, height))\n",
    "\n",
    "cv2.imwrite(\"aligned.png\", img_reg)"
   ]
  },
  {
   "cell_type": "code",
   "execution_count": null,
   "metadata": {
    "collapsed": false,
    "jupyter": {
     "outputs_hidden": false
    },
    "pycharm": {
     "name": "#%%\n"
    }
   },
   "outputs": [],
   "source": [
    "\n"
   ]
  }
 ],
 "metadata": {
  "kernelspec": {
   "display_name": "Python 3",
   "language": "python",
   "name": "python3"
  },
  "language_info": {
   "codemirror_mode": {
    "name": "ipython",
    "version": 3
   },
   "file_extension": ".py",
   "mimetype": "text/x-python",
   "name": "python",
   "nbconvert_exporter": "python",
   "pygments_lexer": "ipython3",
   "version": "3.7.7"
  }
 },
 "nbformat": 4,
 "nbformat_minor": 4
}