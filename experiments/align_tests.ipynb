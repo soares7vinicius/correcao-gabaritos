{
 "cells": [
  {
   "cell_type": "code",
   "execution_count": 47,
   "metadata": {},
   "outputs": [],
   "source": [
    "import numpy as np\n",
    "import cv2\n",
    "from imutils.perspective import four_point_transform\n",
    "import imutils"
   ]
  },
  {
   "cell_type": "code",
   "execution_count": 355,
   "metadata": {},
   "outputs": [],
   "source": [
    "image = cv2.imread(\"../samples/n1.png\")\n",
    "image = imutils.resize(image, height=1200)\n",
    "gray = cv2.cvtColor(image, cv2.COLOR_BGR2GRAY)\n",
    "blurred = cv2.GaussianBlur(gray, (5, 5), 0)\n",
    "edged = cv2.Canny(blurred, 75, 200)\n",
    "\n",
    "# cnts = cv2.findContours(edged.copy(), cv2.RETR_EXTERNAL, cv2.CHAIN_APPROX_SIMPLE)\n",
    "# cnts = imutils.grab_contours(cnts)\n",
    "# docCnt = None\n",
    "\n",
    "# if len(cnts) > 0:\n",
    "# \t# sort the contours according to their size in\n",
    "# \t# descending order\n",
    "# \tcnts = sorted(cnts, key=cv2.contourArea, reverse=True)\n",
    "# \t# loop over the sorted contours\n",
    "# \tfor c in cnts:\n",
    "# \t\t# approximate the contour\n",
    "# \t\tperi = cv2.arcLength(c, True)\n",
    "# \t\tapprox = cv2.approxPolyDP(c, 0.02 * peri, True)\n",
    "# \t\t# if our approximated contour has four points,\n",
    "# \t\t# then we can assume we have found the paper\n",
    "# \t\tif len(approx) == 4:\n",
    "# \t\t\tdocCnt = approx\n",
    "# \t\t\tbreak\n",
    "            \n",
    "# gray = four_point_transform(gray, docCnt.reshape(4, 2))"
   ]
  },
  {
   "cell_type": "code",
   "execution_count": 356,
   "metadata": {},
   "outputs": [],
   "source": [
    "cv2.imshow(\"image\", gray)\n",
    "cv2.waitKey(0)\n",
    "cv2.destroyAllWindows()"
   ]
  },
  {
   "cell_type": "code",
   "execution_count": 361,
   "metadata": {},
   "outputs": [
    {
     "name": "stdout",
     "output_type": "stream",
     "text": [
      "1640\n",
      "32\n"
     ]
    },
    {
     "data": {
      "text/plain": [
       "True"
      ]
     },
     "execution_count": 361,
     "metadata": {},
     "output_type": "execute_result"
    }
   ],
   "source": [
    "# image_obj = cv2.imread('../samples/foto.jpg')\n",
    "# image_obj = imutils.resize(image_obj, height=1200)\n",
    "\n",
    "# gray = cv2.cvtColor(image_obj, cv2.COLOR_BGR2GRAY)\n",
    "\n",
    "image_obj = image.copy()\n",
    "\n",
    "# blur = cv2.GaussianBlur(gray, (5, 5), 0)\n",
    "\n",
    "kernel = np.ones((4, 4), np.uint8)\n",
    "dilation = cv2.dilate(blur, kernel, iterations=1)\n",
    "\n",
    "thresh = cv2.adaptiveThreshold(dilation, 255, 1, 1, 11, 2)\n",
    "\n",
    "# cv2.imshow(\"image\", thresh)\n",
    "# cv2.waitKey(0)\n",
    "# cv2.destroyAllWindows()\n",
    "\n",
    "# Now finding Contours         ###################\n",
    "contours, _ = cv2.findContours(thresh, cv2.RETR_LIST, cv2.CHAIN_APPROX_SIMPLE)\n",
    "print(len(contours))\n",
    "coordinates = []\n",
    "for cnt in contours:\n",
    "        # [point_x, point_y, width, height] = cv2.boundingRect(cnt)\n",
    "    approx = cv2.approxPolyDP(cnt, 0.04 * cv2.arcLength(cnt, True), True)\n",
    "    if len(approx) == 3:\n",
    "        coordinates.append(approx)\n",
    "# cv2.drawContours(image_obj, [cnt], 0, (0, 0, 255), 3)\n",
    "\n",
    "print(len(coordinates))\n",
    "cv2.imwrite(\"result.png\", image_obj)"
   ]
  },
  {
   "cell_type": "code",
   "execution_count": 362,
   "metadata": {},
   "outputs": [],
   "source": [
    "coordinates.sort(key=lambda x: cv2.contourArea(x), reverse=True)\n",
    "triangles = coordinates[:4]\n",
    "triangles, boxes = imutils.contours.sort_contours(triangles, method='left-to-right')"
   ]
  },
  {
   "cell_type": "code",
   "execution_count": 363,
   "metadata": {},
   "outputs": [
    {
     "data": {
      "text/plain": [
       "True"
      ]
     },
     "execution_count": 363,
     "metadata": {},
     "output_type": "execute_result"
    }
   ],
   "source": [
    "for i, c in enumerate(triangles):\n",
    "    sorted_image = imutils.contours.label_contour(image_obj, c, i, color=(0, 0, 255))\n",
    "cv2.imwrite(\"result.png\", sorted_image)"
   ]
  },
  {
   "cell_type": "code",
   "execution_count": 360,
   "metadata": {},
   "outputs": [
    {
     "data": {
      "text/plain": [
       "array([[ 49, 999]], dtype=int32)"
      ]
     },
     "execution_count": 360,
     "metadata": {},
     "output_type": "execute_result"
    }
   ],
   "source": [
    "triangles[1][0]"
   ]
  },
  {
   "cell_type": "code",
   "execution_count": 338,
   "metadata": {},
   "outputs": [
    {
     "data": {
      "text/plain": [
       "array([[( 49,   40), ( 34,   42), ( 33,   58)],\n",
       "       [( 49,  999), ( 52, 1016), ( 68, 1017)],\n",
       "       [(681,   29), (700,   46), (697,   30)],\n",
       "       [(719,  989), (702, 1007), (719, 1005)]],\n",
       "      dtype=[('x', '<i8'), ('y', '<i8')])"
      ]
     },
     "execution_count": 338,
     "metadata": {},
     "output_type": "execute_result"
    }
   ],
   "source": [
    "trilist = []\n",
    "for triangle in triangles:\n",
    "    tripoints = []\n",
    "    for point in triangle:\n",
    "        tripoints.append((point[0][0], point[0][1]))\n",
    "    dtype = [('x', int), ('y', int)]\n",
    "    a = np.array(tripoints, dtype=dtype)\n",
    "    trilist.append(a)\n",
    "triangles = np.array(trilist)\n",
    "triangles"
   ]
  },
  {
   "cell_type": "code",
   "execution_count": 339,
   "metadata": {},
   "outputs": [
    {
     "data": {
      "text/plain": [
       "array([(49, 40), (34, 42), (33, 58)], dtype=[('x', '<i8'), ('y', '<i8')])"
      ]
     },
     "execution_count": 339,
     "metadata": {},
     "output_type": "execute_result"
    }
   ],
   "source": [
    "triangles[0]"
   ]
  },
  {
   "cell_type": "code",
   "execution_count": 331,
   "metadata": {},
   "outputs": [],
   "source": [
    "p00 = triangles[0]\n",
    "p00 = p00[np.lexsort((p00['y'], p00['x']))][0]\n",
    "\n",
    "p10 = triangles[1]\n",
    "p10 = p10[np.lexsort((p10['x'], -p10['x']))][0]"
   ]
  },
  {
   "cell_type": "code",
   "execution_count": 305,
   "metadata": {},
   "outputs": [],
   "source": [
    "p00x = min(triangles[0], key=lambda x: x[0])[0]\n",
    "p00y = min(triangles[0], key=lambda x: x[1])[1]\n",
    "p00 = (p00x, p00y)\n",
    "\n",
    "p10x = min(triangles[1], key=lambda x: x[0])[0]\n",
    "p10y = max(triangles[1], key=lambda x: x[1])[1]\n",
    "p10 = (p10x, p10y)\n",
    "\n",
    "p01x = max(triangles[2], key=lambda x: x[0])[0]\n",
    "p01y = min(triangles[2], key=lambda x: x[1])[1]\n",
    "p01 = (p01x, p01y)\n",
    "\n",
    "p11x = max(triangles[3], key=lambda x: x[0])[0]\n",
    "p11y = max(triangles[3], key=lambda x: x[1])[1]\n",
    "p11 = (p11x, p11y)"
   ]
  },
  {
   "cell_type": "code",
   "execution_count": 306,
   "metadata": {},
   "outputs": [
    {
     "data": {
      "text/plain": [
       "(74, 84)"
      ]
     },
     "execution_count": 306,
     "metadata": {},
     "output_type": "execute_result"
    }
   ],
   "source": [
    "p0x, p0y"
   ]
  },
  {
   "cell_type": "code",
   "execution_count": 307,
   "metadata": {},
   "outputs": [
    {
     "data": {
      "text/plain": [
       "((33, 40), (49, 1017), (700, 29), (719, 1007))"
      ]
     },
     "execution_count": 307,
     "metadata": {},
     "output_type": "execute_result"
    }
   ],
   "source": [
    "p00, p10, p01, p11"
   ]
  },
  {
   "cell_type": "code",
   "execution_count": 308,
   "metadata": {},
   "outputs": [
    {
     "data": {
      "text/plain": [
       "True"
      ]
     },
     "execution_count": 308,
     "metadata": {},
     "output_type": "execute_result"
    }
   ],
   "source": [
    "warped = imutils.perspective.four_point_transform(gray.copy(), np.array([p00, p01, p10, p11]))\n",
    "cv2.imwrite(\"warped.png\", warped)"
   ]
  },
  {
   "cell_type": "code",
   "execution_count": 309,
   "metadata": {},
   "outputs": [],
   "source": [
    "cv2.imshow(\"image\", warped)\n",
    "cv2.waitKey(0)\n",
    "cv2.destroyAllWindows()"
   ]
  },
  {
   "cell_type": "code",
   "execution_count": null,
   "metadata": {},
   "outputs": [],
   "source": []
  }
 ],
 "metadata": {
  "kernelspec": {
   "display_name": "Python 3",
   "language": "python",
   "name": "python3"
  },
  "language_info": {
   "codemirror_mode": {
    "name": "ipython",
    "version": 3
   },
   "file_extension": ".py",
   "mimetype": "text/x-python",
   "name": "python",
   "nbconvert_exporter": "python",
   "pygments_lexer": "ipython3",
   "version": "3.7.7"
  }
 },
 "nbformat": 4,
 "nbformat_minor": 4
}
