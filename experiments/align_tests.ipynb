{
 "cells": [
  {
   "cell_type": "code",
   "execution_count": 509,
   "metadata": {},
   "outputs": [
    {
     "name": "stdout",
     "output_type": "stream",
     "text": [
      "Requirement already up-to-date: imutils in /home/vinicius/miniconda3/envs/tcc37/lib/python3.7/site-packages (0.5.3)\n",
      "\u001b[33mWARNING: You are using pip version 20.1; however, version 20.1.1 is available.\n",
      "You should consider upgrading via the '/home/vinicius/miniconda3/envs/tcc37/bin/python -m pip install --upgrade pip' command.\u001b[0m\n"
     ]
    }
   ],
   "source": [
    "! pip install --upgrade imutils"
   ]
  },
  {
   "cell_type": "code",
   "execution_count": 510,
   "metadata": {},
   "outputs": [],
   "source": [
    "import numpy as np\n",
    "import cv2\n",
    "from imutils.perspective import four_point_transform\n",
    "from imutils import contours as im_contours\n",
    "import imutils\n",
    "import skimage"
   ]
  },
  {
   "cell_type": "code",
   "execution_count": 671,
   "metadata": {},
   "outputs": [
    {
     "data": {
      "text/plain": [
       "True"
      ]
     },
     "execution_count": 671,
     "metadata": {},
     "output_type": "execute_result"
    }
   ],
   "source": [
    "image = cv2.imread(\"../samples/model3/4.png\")\n",
    "\n",
    "factor = 0.4\n",
    "height, width, _ = image.shape\n",
    "height = int(height * factor)\n",
    "width = int(width * factor)\n",
    "image = cv2.resize(image, (width, height))\n",
    "\n",
    "gray = cv2.cvtColor(image, cv2.COLOR_BGR2GRAY)\n",
    "blurred = cv2.GaussianBlur(gray, (5, 5), 0)\n",
    "edged = cv2.Canny(blurred, 75, 200)\n",
    "\n",
    "cv2.imwrite(\"canny.png\", edged)\n",
    "\n",
    "# cnts = cv2.findContours(edged.copy(), cv2.RETR_EXTERNAL, cv2.CHAIN_APPROX_SIMPLE)\n",
    "# cnts = imutils.grab_contours(cnts)\n",
    "# docCnt = None\n",
    "\n",
    "# if len(cnts) > 0:\n",
    "# \t# sort the contours according to their size in\n",
    "# \t# descending order\n",
    "# \tcnts = sorted(cnts, key=cv2.contourArea, reverse=True)\n",
    "# \t# loop over the sorted contours\n",
    "# \tfor c in cnts:\n",
    "# \t\t# approximate the contour\n",
    "# \t\tperi = cv2.arcLength(c, True)\n",
    "# \t\tapprox = cv2.approxPolyDP(c, 0.02 * peri, True)\n",
    "# \t\t# if our approximated contour has four points,\n",
    "# \t\t# then we can assume we have found the paper\n",
    "# \t\tif len(approx) == 4:\n",
    "# \t\t\tdocCnt = approx\n",
    "# \t\t\tbreak\n",
    "            \n",
    "# gray = four_point_transform(gray, docCnt.reshape(4, 2))"
   ]
  },
  {
   "cell_type": "code",
   "execution_count": 676,
   "metadata": {},
   "outputs": [
    {
     "name": "stdout",
     "output_type": "stream",
     "text": [
      "1884\n",
      "45\n"
     ]
    }
   ],
   "source": [
    "# image_obj = cv2.imread('../samples/foto.jpg')\n",
    "# image_obj = imutils.resize(image_obj, height=1200)\n",
    "\n",
    "# gray = cv2.cvtColor(image_obj, cv2.COLOR_BGR2GRAY)\n",
    "\n",
    "image_obj = image.copy()\n",
    "\n",
    "# blur = cv2.GaussianBlur(gray, (5, 5), 0)\n",
    "\n",
    "# kernel = np.ones((4, 4), np.uint8)\n",
    "# dilation = cv2.dilate(blurred, kernel, iterations=1)\n",
    "\n",
    "# thresh = cv2.adaptiveThreshold(gray, 255, 1, 1, 5, 2)\n",
    "_, thresh = cv2.threshold(gray, 240, 255, cv2.THRESH_BINARY)\n",
    "cv2.imwrite(\"thresh.png\", thresh)\n",
    "# thresh = cv2.(thresh, kernel, iterations=1)\n",
    "\n",
    "# cv2.imshow(\"image\", thresh)\n",
    "# cv2.waitKey(0)\n",
    "# cv2.destroyAllWindows()\n",
    "\n",
    "# Now finding Contours         ###################\n",
    "contours, _ = cv2.findContours(thresh, cv2.RETR_LIST, cv2.CHAIN_APPROX_SIMPLE)\n",
    "print(len(contours))\n",
    "coordinates = []\n",
    "for cnt in contours:\n",
    "        # [point_x, point_y, width, height] = cv2.boundingRect(cnt)\n",
    "    approx = cv2.approxPolyDP(cnt, 0.05 * cv2.arcLength(cnt, True), True)\n",
    "    if len(approx) == 3:\n",
    "        coordinates.append(approx)\n",
    "# cv2.drawContours(image_obj, [cnt], 0, (0, 0, 255), 3)\n",
    "\n",
    "print(len(coordinates))\n",
    "# cv2.imwrite(\"result.png\", image_obj)"
   ]
  },
  {
   "cell_type": "code",
   "execution_count": 677,
   "metadata": {},
   "outputs": [
    {
     "data": {
      "text/plain": [
       "True"
      ]
     },
     "execution_count": 677,
     "metadata": {},
     "output_type": "execute_result"
    }
   ],
   "source": [
    "sorted_img = image_obj.copy()\n",
    "\n",
    "coordinates.sort(key=lambda x: cv2.contourArea(x), reverse=True)\n",
    "coordinates = coordinates[:len(coordinates)//4]\n",
    "\n",
    "triangles = coordinates\n",
    "triangles, boxes = im_contours.sort_contours(triangles, method='left-to-right')\n",
    "\n",
    "triangles = triangles[:2] + triangles[-2:]\n",
    "\n",
    "# circles = np.round(circles[0, :]).astype(\"int\")\n",
    "# circles = sorted(circles, key=lambda v: [v[0], v[1]])\n",
    "# NUM_ROWS = 2\n",
    "# sorted_cols = []\n",
    "# for k in range(0, len(circles), NUM_ROWS):\n",
    "#     col = circles[k : k + NUM_ROWS]\n",
    "#     sorted_cols.extend(sorted(col, key=lambda v: v[1]))\n",
    "# circles = sorted_cols\n",
    "\n",
    "for i, c in enumerate(triangles):\n",
    "    M = cv2.moments(c)\n",
    "    cX = int(M[\"m10\"] / M[\"m00\"])\n",
    "    cY = int(M[\"m01\"] / M[\"m00\"])\n",
    "\n",
    "    # draw the contour and label number on the image\n",
    "    cv2.drawContours(sorted_img, [c], -1, (0, 255, 0), 2)\n",
    "    cv2.putText(sorted_img, \"#{}\".format(i + 1), (cX - 20, cY), cv2.FONT_HERSHEY_SIMPLEX, 1.0, (0, 0, 0), 2)\n",
    "cv2.imwrite(\"result.png\", sorted_img)\n"
   ]
  },
  {
   "cell_type": "code",
   "execution_count": 674,
   "metadata": {},
   "outputs": [
    {
     "name": "stdout",
     "output_type": "stream",
     "text": [
      "[[613  56]\n",
      " [ 51  57]\n",
      " [615 878]\n",
      " [ 53 881]]\n"
     ]
    }
   ],
   "source": [
    "tri_centers = []\n",
    "for triangle in triangles:\n",
    "    M = cv2.moments(triangle)\n",
    "    cX = int(M[\"m10\"] / M[\"m00\"])\n",
    "    cY = int(M[\"m01\"] / M[\"m00\"])\n",
    "    tri_centers.append((cX, cY))\n",
    "tri_centers = np.array(tri_centers)\n",
    "print(tri_centers)"
   ]
  },
  {
   "cell_type": "code",
   "execution_count": 675,
   "metadata": {},
   "outputs": [
    {
     "data": {
      "text/plain": [
       "True"
      ]
     },
     "execution_count": 675,
     "metadata": {},
     "output_type": "execute_result"
    }
   ],
   "source": [
    "trilist = []\n",
    "for triangle in triangles:\n",
    "    tripoints = []\n",
    "    for point in triangle:\n",
    "        tripoints.append((point[0][0], point[0][1]))\n",
    "    dtype = [('x', int), ('y', int)]\n",
    "    a = np.array(tripoints, dtype=dtype)\n",
    "    trilist.append(a)\n",
    "triangles = np.array(trilist)\n",
    "triangles\n",
    "\n",
    "p00x = min(triangles[0], key=lambda x: x[0])[0]\n",
    "p00y = min(triangles[0], key=lambda x: x[1])[1]\n",
    "p00 = (p00x, p00y)\n",
    "\n",
    "p10x = min(triangles[1], key=lambda x: x[0])[0]\n",
    "p10y = max(triangles[1], key=lambda x: x[1])[1]\n",
    "p10 = (p10x, p10y)\n",
    "\n",
    "p01x = max(triangles[2], key=lambda x: x[0])[0]\n",
    "p01y = min(triangles[2], key=lambda x: x[1])[1]\n",
    "p01 = (p01x, p01y)\n",
    "\n",
    "p11x = max(triangles[3], key=lambda x: x[0])[0]\n",
    "p11y = max(triangles[3], key=lambda x: x[1])[1]\n",
    "p11 = (p11x, p11y)\n",
    "    \n",
    "warped = imutils.perspective.four_point_transform(gray.copy(), np.array([p00, p11, p10, p01]))\n",
    "cv2.imwrite(\"warped.png\", warped)"
   ]
  },
  {
   "cell_type": "code",
   "execution_count": 517,
   "metadata": {},
   "outputs": [],
   "source": [
    "# cv2.imshow(\"image\", warped)\n",
    "# cv2.waitKey(0)\n",
    "# cv2.destroyAllWindows()"
   ]
  },
  {
   "cell_type": "code",
   "execution_count": null,
   "metadata": {},
   "outputs": [],
   "source": []
  }
 ],
 "metadata": {
  "kernelspec": {
   "display_name": "Python 3",
   "language": "python",
   "name": "python3"
  },
  "language_info": {
   "codemirror_mode": {
    "name": "ipython",
    "version": 3
   },
   "file_extension": ".py",
   "mimetype": "text/x-python",
   "name": "python",
   "nbconvert_exporter": "python",
   "pygments_lexer": "ipython3",
   "version": "3.7.7"
  }
 },
 "nbformat": 4,
 "nbformat_minor": 4
}
