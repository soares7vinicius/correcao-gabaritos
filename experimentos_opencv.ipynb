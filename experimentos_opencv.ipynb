{
 "cells": [
  {
   "cell_type": "code",
   "execution_count": 1,
   "metadata": {},
   "outputs": [
    {
     "name": "stdout",
     "output_type": "stream",
     "text": [
      "edges.png\n",
      "modelo2.png\n",
      "modelo.png\n",
      "out.png\n",
      "out_semfiltro.png\n",
      "pdf_to_png.ipynb\n"
     ]
    }
   ],
   "source": [
    "! ls | grep -i png"
   ]
  },
  {
   "cell_type": "code",
   "execution_count": 2,
   "metadata": {},
   "outputs": [],
   "source": [
    "# https://docs.opencv.org/3.4/dd/d1a/group__imgproc__feature.html#ga47849c3be0d0406ad3ca45db65a25d2d"
   ]
  },
  {
   "cell_type": "code",
   "execution_count": 3,
   "metadata": {},
   "outputs": [],
   "source": [
    "# ! conda remove opencv\n",
    "# ! conda install -c menpo opencv\n",
    "# ! pip install --upgrade pip\n",
    "# ! pip install opencv-contrib-python"
   ]
  },
  {
   "cell_type": "code",
   "execution_count": 4,
   "metadata": {},
   "outputs": [],
   "source": [
    "import cv2\n",
    "import numpy as np\n",
    "import matplotlib.pyplot as plt"
   ]
  },
  {
   "cell_type": "code",
   "execution_count": 330,
   "metadata": {},
   "outputs": [],
   "source": [
    "img = cv2.imread('samples/2.png',)\n",
    "img = cv2.cvtColor(img, cv2.COLOR_BGR2GRAY)\n",
    "height, width = img.shape"
   ]
  },
  {
   "cell_type": "code",
   "execution_count": 331,
   "metadata": {},
   "outputs": [],
   "source": [
    "factor = 0.5\n",
    "\n",
    "height = int(height * factor)\n",
    "width = int(width * factor)\n",
    "min_circle_radius = int(20 * factor)\n",
    "max_circle_radius = int(25 * factor)"
   ]
  },
  {
   "cell_type": "code",
   "execution_count": 332,
   "metadata": {},
   "outputs": [],
   "source": [
    "# n_height, n_width = int(width/factor), int(height/factor)\n",
    "img = cv2.resize(img, (width, height))\n",
    "_, img = cv2.threshold(img, 240, 255, cv2.THRESH_BINARY)\n",
    "# img = cv2.adaptiveThreshold(img,255,cv2.ADAPTIVE_THRESH_GAUSSIAN_C, cv2.THRESH_BINARY,11,2)"
   ]
  },
  {
   "cell_type": "code",
   "execution_count": 333,
   "metadata": {},
   "outputs": [],
   "source": [
    "# plt.figure(figsize=(10, 12))\n",
    "# plt.imshow(img, aspect=\"auto\")\n",
    "\n",
    "# cv2.imshow(\"modelo\", img)\n",
    "# cv2.waitKey(0)\n",
    "# cv2.destroyAllWindows()"
   ]
  },
  {
   "cell_type": "code",
   "execution_count": 334,
   "metadata": {},
   "outputs": [
    {
     "name": "stdout",
     "output_type": "stream",
     "text": [
      "7\n"
     ]
    }
   ],
   "source": [
    "# finding lines\n",
    "import math\n",
    "import numpy as np\n",
    "\n",
    "dst = cv2.Canny(img, 300, 400, None, 3)\n",
    "lines = cv2.HoughLines(\n",
    "    image=dst, \n",
    "    rho=1,\n",
    "    theta=np.pi/2, \n",
    "    threshold=210,\n",
    "    min_theta=np.pi/2,\n",
    "    max_theta=np.pi,\n",
    ")\n",
    "print(len(lines))\n",
    "\n",
    "colored = cv2.cvtColor(img, cv2.COLOR_GRAY2BGR)\n",
    "if lines is not None:\n",
    "    for i in range(0, len(lines)):\n",
    "        rho = lines[i][0][0]\n",
    "        theta = lines[i][0][1]\n",
    "        a = math.cos(theta)\n",
    "        b = math.sin(theta)\n",
    "        x0 = a * rho\n",
    "        y0 = b * rho\n",
    "        pt1 = (int(x0 + 1000*(-b)), int(y0 + 1000*(a)))\n",
    "        pt2 = (int(x0 - 1000*(-b)), int(y0 - 1000*(a)))\n",
    "#         if theta >= (75/180.0)*np.pi and theta <= (110/180.0)*np.pi:\n",
    "#             color = (0, 0, 0)\n",
    "#             cv2.rectangle(img, pt1, (pt2[0]-50, pt2[1]-50), color, -1)\n",
    "#             cv2.rectangle(img, pt1, (pt2[0]+50, pt2[1]+50), color, -1)\n",
    "#         else:\n",
    "#             color = (0, 0, 0)\n",
    "#             cv2.rectangle(img, pt1, (pt2[0]-50, pt2[1]-50), color, -1)\n",
    "        cv2.line(colored, pt1, pt2, (0, 0, 255), 1, cv2.LINE_AA)\n",
    "\n",
    "\n",
    "# cv2.imshow(\"modelo\", colored)\n",
    "# cv2.waitKey(0)\n",
    "# cv2.destroyAllWindows()"
   ]
  },
  {
   "cell_type": "code",
   "execution_count": 335,
   "metadata": {},
   "outputs": [],
   "source": [
    "lines = [line[0][0] for line in lines]\n",
    "lines = [line for line in lines if line <= height/3]\n",
    "lines = sorted(lines, reverse=True)\n",
    "divisor_line = int(lines[0])"
   ]
  },
  {
   "cell_type": "code",
   "execution_count": 336,
   "metadata": {},
   "outputs": [
    {
     "data": {
      "text/plain": [
       "204"
      ]
     },
     "execution_count": 336,
     "metadata": {},
     "output_type": "execute_result"
    }
   ],
   "source": [
    "divisor_line"
   ]
  },
  {
   "cell_type": "code",
   "execution_count": 337,
   "metadata": {},
   "outputs": [],
   "source": [
    "header = img[:divisor_line, :]\n",
    "content = img[divisor_line:, :]"
   ]
  },
  {
   "cell_type": "code",
   "execution_count": 338,
   "metadata": {},
   "outputs": [
    {
     "data": {
      "text/plain": [
       "(965, 827)"
      ]
     },
     "execution_count": 338,
     "metadata": {},
     "output_type": "execute_result"
    }
   ],
   "source": [
    "circles = cv2.HoughCircles(\n",
    "    image=content, \n",
    "    method=cv2.HOUGH_GRADIENT, \n",
    "    dp=1, \n",
    "    minDist=int((2*min_circle_radius) + (5*factor)), \n",
    "    param1=200, \n",
    "    param2=7,\n",
    "    minRadius=min_circle_radius, \n",
    "    maxRadius=max_circle_radius\n",
    ")\n",
    "# print(circles)\n",
    "# print(circles.shape)\n",
    "content.shape"
   ]
  },
  {
   "cell_type": "code",
   "execution_count": 339,
   "metadata": {},
   "outputs": [
    {
     "data": {
      "text/plain": [
       "(10, 12)"
      ]
     },
     "execution_count": 339,
     "metadata": {},
     "output_type": "execute_result"
    }
   ],
   "source": [
    "min_circle_radius, max_circle_radius"
   ]
  },
  {
   "cell_type": "code",
   "execution_count": 340,
   "metadata": {},
   "outputs": [],
   "source": [
    "def points_in_circle_np(radius, x0=0, y0=0, ):\n",
    "    x_ = np.arange(x0 - radius - 1, x0 + radius + 1, dtype=int)\n",
    "    y_ = np.arange(y0 - radius - 1, y0 + radius + 1, dtype=int)\n",
    "    x, y = np.where((x_[:,np.newaxis] - x0)**2 + (y_ - y0)**2 <= radius**2)\n",
    "    # x, y = np.where((np.hypot((x_-x0)[:,np.newaxis], y_-y0)<= radius)) # alternative implementation\n",
    "    for x, y in zip(x_[x], y_[y]):\n",
    "        yield x, y\n",
    "\n",
    "def points_mode_value(img, points):\n",
    "    values = [img[y, x] for y, x in points]\n",
    "    mode = max(set(values), key=values.count)\n",
    "    return mode\n",
    "        \n",
    "        \n",
    "x, y, r = circles[0][0]\n",
    "pts = points_in_circle_np(r, x, y)"
   ]
  },
  {
   "cell_type": "code",
   "execution_count": 341,
   "metadata": {},
   "outputs": [
    {
     "data": {
      "text/plain": [
       "(11.4, 10.3)"
      ]
     },
     "execution_count": 341,
     "metadata": {},
     "output_type": "execute_result"
    }
   ],
   "source": [
    "circles\n",
    "radii = [c[2] for c in circles[0]]\n",
    "max(radii), min(radii)"
   ]
  },
  {
   "cell_type": "code",
   "execution_count": 342,
   "metadata": {},
   "outputs": [],
   "source": [
    "ys = [c[0] for c in circles[0]]\n",
    "xs = [c[1] for c in circles[0]]\n",
    "ind = np.lexsort((ys, xs))\n",
    "\n",
    "circles_sorted = np.copy(circles)\n",
    "for i, j in enumerate(ind, 0):\n",
    "    circles_sorted[0][i] = circles[0][j]"
   ]
  },
  {
   "cell_type": "code",
   "execution_count": 343,
   "metadata": {},
   "outputs": [
    {
     "data": {
      "text/plain": [
       "array([[639.5,  52.5,  11.4],\n",
       "       [695.5,  52.5,  11.4],\n",
       "       [571.5,  53.5,  11. ],\n",
       "       ...,\n",
       "       [700.5, 844.5,  10.3],\n",
       "       [728.5, 844.5,  11. ],\n",
       "       [756.5, 844.5,  11. ]], dtype=float32)"
      ]
     },
     "execution_count": 343,
     "metadata": {},
     "output_type": "execute_result"
    }
   ],
   "source": [
    "circles_sorted[0]"
   ]
  },
  {
   "cell_type": "code",
   "execution_count": 344,
   "metadata": {},
   "outputs": [],
   "source": [
    "a = list(range(1, 121))\n",
    "b = []\n",
    "\n",
    "offset = 0\n",
    "cont = 0\n",
    "for i in range(60):\n",
    "    b.append(a[offset])\n",
    "    \n",
    "    if cont == 3:\n",
    "        cont = 0\n",
    "        offset -= 44\n",
    "    else:\n",
    "        cont += 1\n",
    "        offset += 15\n",
    "\n",
    "offset = 60\n",
    "cont = 0\n",
    "for i in range(60):\n",
    "    b.append(a[offset])\n",
    "    \n",
    "    if cont == 3:\n",
    "        cont = 0\n",
    "        offset -= 44\n",
    "    else:\n",
    "        cont += 1\n",
    "        offset += 15\n",
    "\n",
    "seq = b\n"
   ]
  },
  {
   "cell_type": "code",
   "execution_count": 345,
   "metadata": {},
   "outputs": [],
   "source": [
    "# seq"
   ]
  },
  {
   "cell_type": "code",
   "execution_count": 346,
   "metadata": {},
   "outputs": [
    {
     "data": {
      "text/plain": [
       "True"
      ]
     },
     "execution_count": 346,
     "metadata": {},
     "output_type": "execute_result"
    }
   ],
   "source": [
    "img_colored = cv2.cvtColor(content, cv2.COLOR_GRAY2BGR)\n",
    "\n",
    "circles = circles_sorted\n",
    "\n",
    "alt_cont = 0\n",
    "q_cont = 0\n",
    "cont_dict = {0: \"A\", 1: \"B\", 2: \"C\", 3: \"D\", 4: \"E\"}\n",
    "gabarito = {s: [] for s in seq}\n",
    "\n",
    "if circles is not None:\n",
    "    circles = np.uint16(np.around(circles))\n",
    "    for i in circles[0,:]:\n",
    "        points = points_in_circle_np(x0=i[1], y0=i[0], radius=i[2])\n",
    "        mode = points_mode_value(content, points)\n",
    "        \n",
    "        if mode == 255:\n",
    "            cv2.circle(img_colored, (i[0], i[1]), i[2], (0, 0, 255), 2) # cv2.FILLED)\n",
    "        else:\n",
    "            cv2.circle(img_colored, (i[0], i[1]), i[2], (0, 255, 0), 2) # cv2.FILLED)\n",
    "            \n",
    "            gabarito[seq[q_cont]].append(cont_dict[alt_cont])\n",
    "            \n",
    "        if alt_cont == 4:\n",
    "            alt_cont = 0\n",
    "            q_cont += 1\n",
    "        else:\n",
    "            alt_cont += 1\n",
    "\n",
    "            \n",
    "        \n",
    "for i in range(0, 0):\n",
    "    y, x, r = circles[0][i]\n",
    "    cv2.circle(img_colored, (y, x), r, (255, 0, 0), -1)\n",
    "\n",
    "\n",
    "cv2.imwrite(\"out.png\", img_colored)"
   ]
  },
  {
   "cell_type": "code",
   "execution_count": 347,
   "metadata": {},
   "outputs": [
    {
     "data": {
      "text/plain": [
       "[(1, []),\n",
       " (2, []),\n",
       " (3, []),\n",
       " (4, []),\n",
       " (5, []),\n",
       " (6, []),\n",
       " (7, []),\n",
       " (8, []),\n",
       " (9, []),\n",
       " (10, []),\n",
       " (11, []),\n",
       " (12, []),\n",
       " (13, []),\n",
       " (14, []),\n",
       " (15, []),\n",
       " (16, ['C']),\n",
       " (17, ['D']),\n",
       " (18, []),\n",
       " (19, ['E']),\n",
       " (20, []),\n",
       " (21, []),\n",
       " (22, []),\n",
       " (23, []),\n",
       " (24, ['B']),\n",
       " (25, ['C']),\n",
       " (26, ['E']),\n",
       " (27, ['D']),\n",
       " (28, ['B']),\n",
       " (29, []),\n",
       " (30, ['E']),\n",
       " (31, ['D']),\n",
       " (32, []),\n",
       " (33, []),\n",
       " (34, []),\n",
       " (35, ['C']),\n",
       " (36, []),\n",
       " (37, []),\n",
       " (38, ['B']),\n",
       " (39, []),\n",
       " (40, ['D']),\n",
       " (41, ['E']),\n",
       " (42, []),\n",
       " (43, []),\n",
       " (44, ['E']),\n",
       " (45, ['B']),\n",
       " (46, []),\n",
       " (47, ['B']),\n",
       " (48, ['D', 'E']),\n",
       " (49, ['C']),\n",
       " (50, ['C']),\n",
       " (51, ['A', 'C']),\n",
       " (52, ['A', 'D']),\n",
       " (53, ['C']),\n",
       " (54, ['D']),\n",
       " (55, []),\n",
       " (56, []),\n",
       " (57, ['B', 'D']),\n",
       " (58, []),\n",
       " (59, ['D']),\n",
       " (60, []),\n",
       " (61, []),\n",
       " (62, []),\n",
       " (63, []),\n",
       " (64, []),\n",
       " (65, []),\n",
       " (66, []),\n",
       " (67, []),\n",
       " (68, []),\n",
       " (69, []),\n",
       " (70, []),\n",
       " (71, []),\n",
       " (72, []),\n",
       " (73, []),\n",
       " (74, []),\n",
       " (75, []),\n",
       " (76, []),\n",
       " (77, []),\n",
       " (78, []),\n",
       " (79, []),\n",
       " (80, []),\n",
       " (81, []),\n",
       " (82, []),\n",
       " (83, []),\n",
       " (84, []),\n",
       " (85, []),\n",
       " (86, []),\n",
       " (87, []),\n",
       " (88, []),\n",
       " (89, []),\n",
       " (90, []),\n",
       " (91, []),\n",
       " (92, []),\n",
       " (93, []),\n",
       " (94, []),\n",
       " (95, []),\n",
       " (96, []),\n",
       " (97, []),\n",
       " (98, []),\n",
       " (99, []),\n",
       " (100, []),\n",
       " (101, []),\n",
       " (102, []),\n",
       " (103, []),\n",
       " (104, []),\n",
       " (105, []),\n",
       " (106, []),\n",
       " (107, []),\n",
       " (108, []),\n",
       " (109, []),\n",
       " (110, []),\n",
       " (111, []),\n",
       " (112, []),\n",
       " (113, []),\n",
       " (114, []),\n",
       " (115, []),\n",
       " (116, []),\n",
       " (117, []),\n",
       " (118, []),\n",
       " (119, []),\n",
       " (120, [])]"
      ]
     },
     "execution_count": 347,
     "metadata": {},
     "output_type": "execute_result"
    }
   ],
   "source": [
    "from operator import itemgetter\n",
    "\n",
    "gabarito = list(gabarito.items())\n",
    "gabarito = sorted(gabarito, key=itemgetter(0))\n",
    "gabarito"
   ]
  },
  {
   "cell_type": "code",
   "execution_count": 288,
   "metadata": {},
   "outputs": [],
   "source": [
    "# img_colored = cv2.resize(img_colored, (423, 550))\n",
    "cv2.imshow(\"modelo\", img_colored)\n",
    "cv2.waitKey(0)\n",
    "cv2.destroyAllWindows()"
   ]
  },
  {
   "cell_type": "markdown",
   "metadata": {},
   "source": [
    "## header"
   ]
  },
  {
   "cell_type": "code",
   "execution_count": 90,
   "metadata": {},
   "outputs": [],
   "source": [
    "# https://docs.opencv.org/2.4/modules/imgproc/doc/structural_analysis_and_shape_descriptors.html\n",
    "# https://docs.opencv.org/master/d9/d8b/tutorial_py_contours_hierarchy.html"
   ]
  },
  {
   "cell_type": "code",
   "execution_count": 297,
   "metadata": {},
   "outputs": [],
   "source": [
    "header = img[:divisor_line, :]"
   ]
  },
  {
   "cell_type": "code",
   "execution_count": 263,
   "metadata": {},
   "outputs": [],
   "source": [
    "cv2.imshow(\"modelo\", header)\n",
    "cv2.waitKey(0)\n",
    "cv2.destroyAllWindows()"
   ]
  },
  {
   "cell_type": "code",
   "execution_count": 315,
   "metadata": {},
   "outputs": [],
   "source": [
    "contours, hierarchy = cv2.findContours(header, cv2.RETR_CCOMP, cv2.CHAIN_APPROX_SIMPLE)\n",
    "contours_area = []\n",
    "# hie = [h for h in hierarchy[0] if h[2] == -1 and h[3] == 0]\n",
    "\n",
    "\n",
    "header_colored = cv2.cvtColor(header, cv2.COLOR_GRAY2BGR)\n",
    "for contour in contours:\n",
    "#     approx = contour\n",
    "    peri = cv2.arcLength(contour, True)\n",
    "    approx = cv2.approxPolyDP(contour, 0.04 * peri, True)\n",
    "    contours_area.append((cv2.contourArea(approx), approx))\n",
    "    if contours_area[-1][0] > 300 and contours_area[-1][0] < 1000:\n",
    "        (x,y,w,h) = cv2.boundingRect(approx)\n",
    "        cv2.rectangle(header_colored, (x,y), (x+w,y+h), (255,0,0), 2)"
   ]
  },
  {
   "cell_type": "code",
   "execution_count": 316,
   "metadata": {},
   "outputs": [],
   "source": [
    "cv2.imshow(\"modelo\", header_colored)\n",
    "cv2.waitKey(0)\n",
    "cv2.destroyAllWindows()"
   ]
  },
  {
   "cell_type": "code",
   "execution_count": 193,
   "metadata": {},
   "outputs": [],
   "source": [
    "# hierarchy"
   ]
  },
  {
   "cell_type": "code",
   "execution_count": 311,
   "metadata": {},
   "outputs": [
    {
     "data": {
      "text/plain": [
       "(96, 96)"
      ]
     },
     "execution_count": 311,
     "metadata": {},
     "output_type": "execute_result"
    }
   ],
   "source": [
    "len(contours), len(contours_area)"
   ]
  },
  {
   "cell_type": "code",
   "execution_count": 312,
   "metadata": {},
   "outputs": [],
   "source": [
    "areas = sorted([a for a, c in contours_area], reverse=True)\n",
    "contours_area = [ca for ca in contours_area if ca[0] > 600 and ca[0] < 1000]"
   ]
  },
  {
   "cell_type": "code",
   "execution_count": 314,
   "metadata": {},
   "outputs": [
    {
     "data": {
      "text/plain": [
       "[916.5,\n",
       " 893.0,\n",
       " 883.0,\n",
       " 880.5,\n",
       " 867.0,\n",
       " 865.5,\n",
       " 813.0,\n",
       " 808.5,\n",
       " 789.0,\n",
       " 761.0,\n",
       " 462.5,\n",
       " 315.0]"
      ]
     },
     "execution_count": 314,
     "metadata": {},
     "output_type": "execute_result"
    }
   ],
   "source": [
    "areas[1:13]"
   ]
  },
  {
   "cell_type": "code",
   "execution_count": 279,
   "metadata": {},
   "outputs": [],
   "source": [
    "header_colored = cv2.cvtColor(header, cv2.COLOR_GRAY2BGR)\n",
    "for _, cont in contours_area:\n",
    "    (x,y,w,h) = cv2.boundingRect(approx)\n",
    "    cv2.rectangle(header_colored, (x,y), (x+w,y+h), (255,0,0), 2)"
   ]
  },
  {
   "cell_type": "code",
   "execution_count": 221,
   "metadata": {},
   "outputs": [
    {
     "ename": "ValueError",
     "evalue": "The truth value of an array with more than one element is ambiguous. Use a.any() or a.all()",
     "output_type": "error",
     "traceback": [
      "\u001b[0;31m---------------------------------------------------------------------------\u001b[0m",
      "\u001b[0;31mValueError\u001b[0m                                Traceback (most recent call last)",
      "\u001b[0;32m<ipython-input-221-e927bb877d05>\u001b[0m in \u001b[0;36m<module>\u001b[0;34m\u001b[0m\n\u001b[0;32m----> 1\u001b[0;31m \u001b[0msorted\u001b[0m\u001b[0;34m(\u001b[0m\u001b[0mcontours_area\u001b[0m\u001b[0;34m,\u001b[0m \u001b[0mreverse\u001b[0m\u001b[0;34m=\u001b[0m\u001b[0;32mTrue\u001b[0m\u001b[0;34m)\u001b[0m\u001b[0;34m[\u001b[0m\u001b[0;36m1\u001b[0m\u001b[0;34m:\u001b[0m\u001b[0;36m14\u001b[0m\u001b[0;34m]\u001b[0m\u001b[0;34m\u001b[0m\u001b[0;34m\u001b[0m\u001b[0m\n\u001b[0m",
      "\u001b[0;31mValueError\u001b[0m: The truth value of an array with more than one element is ambiguous. Use a.any() or a.all()"
     ]
    }
   ],
   "source": [
    "sorted(contours_area, reverse=True)[1:14]"
   ]
  },
  {
   "cell_type": "code",
   "execution_count": 137,
   "metadata": {},
   "outputs": [
    {
     "data": {
      "text/plain": [
       "0.0"
      ]
     },
     "execution_count": 137,
     "metadata": {},
     "output_type": "execute_result"
    }
   ],
   "source": [
    "mode = max(set(contours_area), key=contours_area.count) # achando area moda\n",
    "\n",
    "boxes = [contour for contour, area in zip(contours, contours_area) if area == mode]\n",
    "mode"
   ]
  },
  {
   "cell_type": "code",
   "execution_count": 268,
   "metadata": {},
   "outputs": [],
   "source": [
    "header_colored = cv2.cvtColor(header, cv2.COLOR_GRAY2BGR)\n",
    "for box in boxes:\n",
    "    (x,y,w,h) = cv2.boundingRect(box)\n",
    "    cv2.rectangle(header_colored, (x,y), (x+w,y+h), (0,0,255), 2)"
   ]
  },
  {
   "cell_type": "code",
   "execution_count": 299,
   "metadata": {},
   "outputs": [],
   "source": [
    "cv2.imshow(\"modelo\", header_colored)\n",
    "cv2.waitKey(0)\n",
    "cv2.destroyAllWindows()"
   ]
  },
  {
   "cell_type": "code",
   "execution_count": 236,
   "metadata": {},
   "outputs": [],
   "source": [
    "from sklearn.cluster import KMeans\n",
    "\n",
    "areas = np.array(contours_area).reshape(-1, 1)\n",
    "# areas"
   ]
  },
  {
   "cell_type": "code",
   "execution_count": 247,
   "metadata": {},
   "outputs": [
    {
     "data": {
      "text/plain": [
       "(array([[ 13773.        ],\n",
       "        [158845.        ],\n",
       "        [   151.86363636],\n",
       "        [  1025.        ],\n",
       "        [  3708.        ],\n",
       "        [    16.17857143],\n",
       "        [   335.75      ],\n",
       "        [   100.16666667],\n",
       "        [   206.        ],\n",
       "        [   948.        ]]),\n",
       " array([5, 5, 5, 5, 7, 2, 3, 3, 3, 3, 3, 3, 3, 3, 3, 3, 3, 0, 9, 5, 5, 5,\n",
       "        7, 7, 7, 7, 5, 5, 5, 2, 5, 5, 7, 5, 2, 2, 2, 2, 2, 6, 8, 2, 8, 8,\n",
       "        8, 6, 6, 2, 2, 6, 2, 5, 4, 1], dtype=int32))"
      ]
     },
     "execution_count": 247,
     "metadata": {},
     "output_type": "execute_result"
    }
   ],
   "source": [
    "np.set_printoptions(suppress=True)\n",
    "kmeans = KMeans(n_clusters=10, random_state=0).fit(areas)\n",
    "\n",
    "kmeans.cluster_centers_, kmeans.labels_"
   ]
  },
  {
   "cell_type": "code",
   "execution_count": 248,
   "metadata": {},
   "outputs": [
    {
     "data": {
      "text/plain": [
       "{0: 1, 1: 1, 2: 11, 3: 11, 4: 1, 5: 14, 6: 4, 7: 6, 8: 4, 9: 1}"
      ]
     },
     "execution_count": 248,
     "metadata": {},
     "output_type": "execute_result"
    }
   ],
   "source": [
    "keys = set(kmeans.labels_)\n",
    "rep = {k: 0 for k in keys}\n",
    "\n",
    "for lbl in kmeans.labels_:\n",
    "    rep[lbl] = rep[lbl] + 1\n",
    "    \n",
    "rep"
   ]
  }
 ],
 "metadata": {
  "kernelspec": {
   "display_name": "Python 3",
   "language": "python",
   "name": "python3"
  },
  "language_info": {
   "codemirror_mode": {
    "name": "ipython",
    "version": 3
   },
   "file_extension": ".py",
   "mimetype": "text/x-python",
   "name": "python",
   "nbconvert_exporter": "python",
   "pygments_lexer": "ipython3",
   "version": "3.8.2"
  }
 },
 "nbformat": 4,
 "nbformat_minor": 4
}
