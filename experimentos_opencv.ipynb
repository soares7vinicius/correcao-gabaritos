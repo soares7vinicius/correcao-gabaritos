{
 "cells": [
  {
   "cell_type": "code",
   "execution_count": 6,
   "metadata": {},
   "outputs": [
    {
     "name": "stdout",
     "output_type": "stream",
     "text": [
      "edges.png\n",
      "modelo.png\n",
      "out.png\n"
     ]
    }
   ],
   "source": [
    "! ls | grep -i png"
   ]
  },
  {
   "cell_type": "code",
   "execution_count": 2,
   "metadata": {},
   "outputs": [],
   "source": [
    "# ! conda remove opencv\n",
    "# ! conda install -c menpo opencv\n",
    "# ! pip install --upgrade pip\n",
    "# ! pip install opencv-contrib-python"
   ]
  },
  {
   "cell_type": "code",
   "execution_count": 1,
   "metadata": {},
   "outputs": [],
   "source": [
    "import cv2\n",
    "import numpy as np\n",
    "import matplotlib.pyplot as plt"
   ]
  },
  {
   "cell_type": "code",
   "execution_count": 16,
   "metadata": {},
   "outputs": [],
   "source": [
    "factor = 2"
   ]
  },
  {
   "cell_type": "code",
   "execution_count": 108,
   "metadata": {},
   "outputs": [],
   "source": [
    "height = 1100\n",
    "width = 850\n",
    "min_circle_radius = 7\n",
    "max_circle_radius = 11"
   ]
  },
  {
   "cell_type": "code",
   "execution_count": 124,
   "metadata": {},
   "outputs": [],
   "source": [
    "img = cv2.imread('samples/1.png',)\n",
    "img = cv2.cvtColor(img, cv2.COLOR_BGR2GRAY)\n",
    "# height, width = img.shape\n",
    "# n_height, n_width = int(width/factor), int(height/factor)\n",
    "img = cv2.resize(img, (width, height))\n",
    "\n",
    "_, img = cv2.threshold(img, 200, 255, cv2.THRESH_BINARY)"
   ]
  },
  {
   "cell_type": "code",
   "execution_count": 125,
   "metadata": {},
   "outputs": [],
   "source": [
    "# plt.figure(figsize=(10, 12))\n",
    "# plt.imshow(img, aspect=\"auto\")\n",
    "cv2.imshow(\"modelo\", img)\n",
    "cv2.waitKey(0)\n",
    "cv2.destroyAllWindows()"
   ]
  },
  {
   "cell_type": "code",
   "execution_count": 126,
   "metadata": {},
   "outputs": [
    {
     "name": "stdout",
     "output_type": "stream",
     "text": [
      "(1, 604, 3)\n"
     ]
    },
    {
     "data": {
      "text/plain": [
       "(1100, 850)"
      ]
     },
     "execution_count": 126,
     "metadata": {},
     "output_type": "execute_result"
    }
   ],
   "source": [
    "circles = cv2.HoughCircles(\n",
    "    image=img, \n",
    "    method=cv2.HOUGH_GRADIENT, \n",
    "    dp=1, \n",
    "    minDist=img.shape[0]/64, \n",
    "    param1=200, \n",
    "    param2=10,\n",
    "    minRadius=min_circle_radius, \n",
    "    maxRadius=max_circle_radius\n",
    ")\n",
    "print(circles.shape)\n",
    "img.shape"
   ]
  },
  {
   "cell_type": "code",
   "execution_count": 127,
   "metadata": {},
   "outputs": [
    {
     "data": {
      "text/plain": [
       "True"
      ]
     },
     "execution_count": 127,
     "metadata": {},
     "output_type": "execute_result"
    }
   ],
   "source": [
    "img_colored = cv2.cvtColor(img, cv2.COLOR_GRAY2BGR)\n",
    "if circles is not None:\n",
    "    circles = np.uint16(np.around(circles))\n",
    "    for i in circles[0,:]:\n",
    "        cv2.circle(img_colored, (i[0], i[1]), i[2], (0, 255, 0), cv2.FILLED)\n",
    "        \n",
    "cv2.imwrite(\"out.png\", img_colored)"
   ]
  },
  {
   "cell_type": "code",
   "execution_count": 87,
   "metadata": {},
   "outputs": [],
   "source": [
    "img_colored = cv2.resize(img_colored, (423, 550))\n",
    "cv2.imshow(\"modelo\", img_colored)\n",
    "cv2.waitKey(0)\n",
    "cv2.destroyAllWindows()"
   ]
  },
  {
   "cell_type": "code",
   "execution_count": null,
   "metadata": {},
   "outputs": [],
   "source": []
  }
 ],
 "metadata": {
  "kernelspec": {
   "display_name": "Python 3",
   "language": "python",
   "name": "python3"
  },
  "language_info": {
   "codemirror_mode": {
    "name": "ipython",
    "version": 3
   },
   "file_extension": ".py",
   "mimetype": "text/x-python",
   "name": "python",
   "nbconvert_exporter": "python",
   "pygments_lexer": "ipython3",
   "version": "3.7.6"
  }
 },
 "nbformat": 4,
 "nbformat_minor": 4
}
