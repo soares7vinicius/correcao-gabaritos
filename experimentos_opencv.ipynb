{
 "cells": [
  {
   "cell_type": "code",
   "execution_count": 6,
   "metadata": {},
   "outputs": [
    {
     "name": "stdout",
     "output_type": "stream",
     "text": [
      "edges.png\n",
      "modelo.png\n",
      "out.png\n"
     ]
    }
   ],
   "source": [
    "! ls | grep -i png"
   ]
  },
  {
   "cell_type": "code",
   "execution_count": 2,
   "metadata": {},
   "outputs": [],
   "source": [
    "# ! conda remove opencv\n",
    "# ! conda install -c menpo opencv\n",
    "# ! pip install --upgrade pip\n",
    "# ! pip install opencv-contrib-python"
   ]
  },
  {
   "cell_type": "code",
   "execution_count": 473,
   "metadata": {},
   "outputs": [],
   "source": [
    "import cv2\n",
    "import numpy as np\n",
    "import matplotlib.pyplot as plt"
   ]
  },
  {
   "cell_type": "code",
   "execution_count": 312,
   "metadata": {},
   "outputs": [],
   "source": [
    "factor = 2"
   ]
  },
  {
   "cell_type": "code",
   "execution_count": 474,
   "metadata": {},
   "outputs": [],
   "source": [
    "height = 1100\n",
    "width = 850\n",
    "min_circle_radius = 7\n",
    "max_circle_radius = 11"
   ]
  },
  {
   "cell_type": "code",
   "execution_count": 514,
   "metadata": {},
   "outputs": [],
   "source": [
    "img = cv2.imread('samples/1.png',)\n",
    "img = cv2.cvtColor(img, cv2.COLOR_BGR2GRAY)\n",
    "# height, width = img.shape\n",
    "# n_height, n_width = int(width/factor), int(height/factor)\n",
    "img = cv2.resize(img, (width, height))\n",
    "\n",
    "_, img = cv2.threshold(img, 200, 255, cv2.THRESH_BINARY)"
   ]
  },
  {
   "cell_type": "code",
   "execution_count": 504,
   "metadata": {},
   "outputs": [],
   "source": [
    "# plt.figure(figsize=(10, 12))\n",
    "# plt.imshow(img, aspect=\"auto\")\n",
    "\n",
    "cv2.imshow(\"modelo\", img)\n",
    "cv2.waitKey(0)\n",
    "cv2.destroyAllWindows()"
   ]
  },
  {
   "cell_type": "code",
   "execution_count": 478,
   "metadata": {},
   "outputs": [],
   "source": [
    "# finding contours\n",
    "\n",
    "# contours, hierarchy = cv2.findContours(img, cv2.RETR_EXTERNAL, cv2.CHAIN_APPROX_SIMPLE)\n",
    "# boxes = []\n",
    "\n",
    "# for contour in contours:\n",
    "#     if cv2.contourArea(contour) > 100:\n",
    "#         hull = cv2.convexHull(contour)\n",
    "#         cv2.drawContours(img, [hull], -1, 0, -1)\n",
    "#         x,y,w,h = cv2.boundingRect(contour)\n",
    "#         boxes.append((x,y,w,h))"
   ]
  },
  {
   "cell_type": "code",
   "execution_count": 515,
   "metadata": {},
   "outputs": [
    {
     "name": "stdout",
     "output_type": "stream",
     "text": [
      "13\n"
     ]
    }
   ],
   "source": [
    "# finding lines\n",
    "import math\n",
    "import numpy as np\n",
    "\n",
    "dst = cv2.Canny(img, 300, 400, None, 3)\n",
    "lines = cv2.HoughLines(\n",
    "    image=dst, \n",
    "    rho=1, \n",
    "    theta=np.pi/180, \n",
    "    threshold=300,\n",
    "#     min_theta=0, \n",
    "#     max_theta=np.pi/3,\n",
    ")\n",
    "print(len(lines))\n",
    "\n",
    "colored = cv2.cvtColor(img, cv2.COLOR_GRAY2BGR)\n",
    "if lines is not None:\n",
    "    for i in range(0, len(lines)):\n",
    "        rho = lines[i][0][0]\n",
    "        theta = lines[i][0][1]\n",
    "        a = math.cos(theta)\n",
    "        b = math.sin(theta)\n",
    "        x0 = a * rho\n",
    "        y0 = b * rho\n",
    "        pt1 = (int(x0 + 1000*(-b)), int(y0 + 1000*(a)))\n",
    "        pt2 = (int(x0 - 1000*(-b)), int(y0 - 1000*(a)))\n",
    "        if theta >= (75/180.0)*np.pi and theta <= (110/180.0)*np.pi:\n",
    "            color = (0, 0, 0)\n",
    "            cv2.rectangle(img, pt1, (pt2[0]-50, pt2[1]-50), color, -1)\n",
    "            cv2.rectangle(img, pt1, (pt2[0]+50, pt2[1]+50), color, -1)\n",
    "        else:\n",
    "            color = (0, 0, 0)\n",
    "            cv2.rectangle(img, pt1, (pt2[0]-50, pt2[1]-50), color, -1)\n",
    "#         cv2.line(colored, pt1, pt2, color, 1, cv2.LINE_AA)\n",
    "\n",
    "\n",
    "# cv2.imshow(\"modelo\", img)\n",
    "# cv2.waitKey(0)\n",
    "# cv2.destroyAllWindows()"
   ]
  },
  {
   "cell_type": "code",
   "execution_count": 516,
   "metadata": {},
   "outputs": [
    {
     "name": "stdout",
     "output_type": "stream",
     "text": [
      "(1, 600, 3)\n"
     ]
    },
    {
     "data": {
      "text/plain": [
       "(1100, 850)"
      ]
     },
     "execution_count": 516,
     "metadata": {},
     "output_type": "execute_result"
    }
   ],
   "source": [
    "circles = cv2.HoughCircles(\n",
    "    image=img, \n",
    "    method=cv2.HOUGH_GRADIENT, \n",
    "    dp=1, \n",
    "    minDist=img.shape[0]/64, \n",
    "    param1=200, \n",
    "    param2=10,\n",
    "    minRadius=min_circle_radius, \n",
    "    maxRadius=max_circle_radius\n",
    ")\n",
    "print(circles.shape)\n",
    "img.shape"
   ]
  },
  {
   "cell_type": "code",
   "execution_count": 517,
   "metadata": {},
   "outputs": [
    {
     "data": {
      "text/plain": [
       "True"
      ]
     },
     "execution_count": 517,
     "metadata": {},
     "output_type": "execute_result"
    }
   ],
   "source": [
    "img_colored = cv2.cvtColor(img, cv2.COLOR_GRAY2BGR)\n",
    "if circles is not None:\n",
    "    circles = np.uint16(np.around(circles))\n",
    "    for i in circles[0,:]:\n",
    "        cv2.circle(img_colored, (i[0], i[1]), i[2], (0, 255, 0), cv2.FILLED)\n",
    "        \n",
    "cv2.imwrite(\"out.png\", img_colored)"
   ]
  },
  {
   "cell_type": "code",
   "execution_count": 518,
   "metadata": {},
   "outputs": [],
   "source": [
    "# img_colored = cv2.resize(img_colored, (423, 550))\n",
    "cv2.imshow(\"modelo\", img_colored)\n",
    "cv2.waitKey(0)\n",
    "cv2.destroyAllWindows()"
   ]
  },
  {
   "cell_type": "code",
   "execution_count": null,
   "metadata": {},
   "outputs": [],
   "source": []
  }
 ],
 "metadata": {
  "kernelspec": {
   "display_name": "Python 3",
   "language": "python",
   "name": "python3"
  },
  "language_info": {
   "codemirror_mode": {
    "name": "ipython",
    "version": 3
   },
   "file_extension": ".py",
   "mimetype": "text/x-python",
   "name": "python",
   "nbconvert_exporter": "python",
   "pygments_lexer": "ipython3",
   "version": "3.7.6"
  }
 },
 "nbformat": 4,
 "nbformat_minor": 4
}
