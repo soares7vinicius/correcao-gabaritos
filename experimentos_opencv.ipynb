{
 "cells": [
  {
   "cell_type": "code",
   "execution_count": 2,
   "metadata": {},
   "outputs": [
    {
     "name": "stdout",
     "output_type": "stream",
     "text": [
      "edges.png\n",
      "modelo2.png\n",
      "modelo.png\n",
      "out.png\n",
      "out_semfiltro.png\n",
      "pdf_to_png.ipynb\n"
     ]
    }
   ],
   "source": [
    "! ls | grep -i png"
   ]
  },
  {
   "cell_type": "code",
   "execution_count": 60,
   "metadata": {},
   "outputs": [],
   "source": [
    "# https://docs.opencv.org/3.4/dd/d1a/group__imgproc__feature.html#ga47849c3be0d0406ad3ca45db65a25d2d"
   ]
  },
  {
   "cell_type": "code",
   "execution_count": 3,
   "metadata": {},
   "outputs": [],
   "source": [
    "# ! conda remove opencv\n",
    "# ! conda install -c menpo opencv\n",
    "# ! pip install --upgrade pip\n",
    "# ! pip install opencv-contrib-python"
   ]
  },
  {
   "cell_type": "code",
   "execution_count": 290,
   "metadata": {},
   "outputs": [],
   "source": [
    "import cv2\n",
    "import numpy as np\n",
    "import matplotlib.pyplot as plt"
   ]
  },
  {
   "cell_type": "code",
   "execution_count": 291,
   "metadata": {},
   "outputs": [],
   "source": [
    "img = cv2.imread('samples/5.png',)\n",
    "img = cv2.cvtColor(img, cv2.COLOR_BGR2GRAY)\n",
    "height, width = img.shape"
   ]
  },
  {
   "cell_type": "code",
   "execution_count": 292,
   "metadata": {},
   "outputs": [],
   "source": [
    "factor = 0.5\n",
    "\n",
    "height = int(height * factor)\n",
    "width = int(width * factor)\n",
    "min_circle_radius = int(20 * factor)\n",
    "max_circle_radius = int(25 * factor)"
   ]
  },
  {
   "cell_type": "code",
   "execution_count": 293,
   "metadata": {},
   "outputs": [],
   "source": [
    "# n_height, n_width = int(width/factor), int(height/factor)\n",
    "img = cv2.resize(img, (width, height))\n",
    "_, img = cv2.threshold(img, 240, 255, cv2.THRESH_BINARY)\n",
    "# img = cv2.adaptiveThreshold(img,255,cv2.ADAPTIVE_THRESH_GAUSSIAN_C, cv2.THRESH_BINARY,11,2)"
   ]
  },
  {
   "cell_type": "code",
   "execution_count": 105,
   "metadata": {},
   "outputs": [],
   "source": [
    "# plt.figure(figsize=(10, 12))\n",
    "# plt.imshow(img, aspect=\"auto\")\n",
    "\n",
    "cv2.imshow(\"modelo\", img)\n",
    "cv2.waitKey(0)\n",
    "cv2.destroyAllWindows()"
   ]
  },
  {
   "cell_type": "code",
   "execution_count": 294,
   "metadata": {},
   "outputs": [
    {
     "name": "stdout",
     "output_type": "stream",
     "text": [
      "22\n"
     ]
    }
   ],
   "source": [
    "# finding lines\n",
    "import math\n",
    "import numpy as np\n",
    "\n",
    "dst = cv2.Canny(img, 300, 400, None, 3)\n",
    "lines = cv2.HoughLines(\n",
    "    image=dst, \n",
    "    rho=1,\n",
    "    theta=np.pi/2, \n",
    "    threshold=170,\n",
    "    min_theta=np.pi/2,\n",
    "    max_theta=np.pi,\n",
    ")\n",
    "print(len(lines))\n",
    "\n",
    "colored = cv2.cvtColor(img, cv2.COLOR_GRAY2BGR)\n",
    "if lines is not None:\n",
    "    for i in range(0, len(lines)):\n",
    "        rho = lines[i][0][0]\n",
    "        theta = lines[i][0][1]\n",
    "        a = math.cos(theta)\n",
    "        b = math.sin(theta)\n",
    "        x0 = a * rho\n",
    "        y0 = b * rho\n",
    "        pt1 = (int(x0 + 1000*(-b)), int(y0 + 1000*(a)))\n",
    "        pt2 = (int(x0 - 1000*(-b)), int(y0 - 1000*(a)))\n",
    "#         if theta >= (75/180.0)*np.pi and theta <= (110/180.0)*np.pi:\n",
    "#             color = (0, 0, 0)\n",
    "#             cv2.rectangle(img, pt1, (pt2[0]-50, pt2[1]-50), color, -1)\n",
    "#             cv2.rectangle(img, pt1, (pt2[0]+50, pt2[1]+50), color, -1)\n",
    "#         else:\n",
    "#             color = (0, 0, 0)\n",
    "#             cv2.rectangle(img, pt1, (pt2[0]-50, pt2[1]-50), color, -1)\n",
    "        cv2.line(colored, pt1, pt2, (0, 0, 255), 1, cv2.LINE_AA)\n",
    "\n",
    "\n",
    "cv2.imshow(\"modelo\", colored)\n",
    "cv2.waitKey(0)\n",
    "cv2.destroyAllWindows()"
   ]
  },
  {
   "cell_type": "code",
   "execution_count": 259,
   "metadata": {},
   "outputs": [],
   "source": [
    "lines = [line[0][0] for line in lines]\n",
    "lines = [line for line in lines if line <= height/3]\n",
    "lines = sorted(lines, reverse=True)\n",
    "divisor_line = int(lines[0])"
   ]
  },
  {
   "cell_type": "code",
   "execution_count": 295,
   "metadata": {},
   "outputs": [
    {
     "data": {
      "text/plain": [
       "205"
      ]
     },
     "execution_count": 295,
     "metadata": {},
     "output_type": "execute_result"
    }
   ],
   "source": [
    "divisor_line"
   ]
  },
  {
   "cell_type": "code",
   "execution_count": 296,
   "metadata": {},
   "outputs": [],
   "source": [
    "header = img[:divisor_line, :]\n",
    "content = img[divisor_line:, :]"
   ]
  },
  {
   "cell_type": "code",
   "execution_count": 165,
   "metadata": {},
   "outputs": [
    {
     "name": "stdout",
     "output_type": "stream",
     "text": [
      "(1, 600, 3)\n"
     ]
    },
    {
     "data": {
      "text/plain": [
       "(964, 827)"
      ]
     },
     "execution_count": 165,
     "metadata": {},
     "output_type": "execute_result"
    }
   ],
   "source": [
    "circles = cv2.HoughCircles(\n",
    "    image=content, \n",
    "    method=cv2.HOUGH_GRADIENT, \n",
    "    dp=1, \n",
    "    minDist=int((2*min_circle_radius) + (5*factor)), \n",
    "    param1=200, \n",
    "    param2=7,\n",
    "    minRadius=min_circle_radius, \n",
    "    maxRadius=max_circle_radius\n",
    ")\n",
    "# print(circles)\n",
    "print(circles.shape)\n",
    "content.shape"
   ]
  },
  {
   "cell_type": "code",
   "execution_count": 109,
   "metadata": {},
   "outputs": [
    {
     "data": {
      "text/plain": [
       "(10, 12)"
      ]
     },
     "execution_count": 109,
     "metadata": {},
     "output_type": "execute_result"
    }
   ],
   "source": [
    "min_circle_radius, max_circle_radius"
   ]
  },
  {
   "cell_type": "code",
   "execution_count": 262,
   "metadata": {},
   "outputs": [
    {
     "data": {
      "text/plain": [
       "(11.4, 10.2)"
      ]
     },
     "execution_count": 262,
     "metadata": {},
     "output_type": "execute_result"
    }
   ],
   "source": [
    "circles\n",
    "radii = [c[2] for c in circles[0]]\n",
    "max(radii), min(radii)"
   ]
  },
  {
   "cell_type": "code",
   "execution_count": 111,
   "metadata": {},
   "outputs": [
    {
     "data": {
      "text/plain": [
       "True"
      ]
     },
     "execution_count": 111,
     "metadata": {},
     "output_type": "execute_result"
    }
   ],
   "source": [
    "img_colored = cv2.cvtColor(content, cv2.COLOR_GRAY2BGR)\n",
    "if circles is not None:\n",
    "    circles = np.uint16(np.around(circles))\n",
    "    for i in circles[0,:]:\n",
    "        cv2.circle(img_colored, (i[0], i[1]), i[2], (0, 255, 0), cv2.FILLED)\n",
    "        \n",
    "cv2.imwrite(\"out.png\", img_colored)"
   ]
  },
  {
   "cell_type": "code",
   "execution_count": 112,
   "metadata": {},
   "outputs": [],
   "source": [
    "# img_colored = cv2.resize(img_colored, (423, 550))\n",
    "cv2.imshow(\"modelo\", img_colored)\n",
    "cv2.waitKey(0)\n",
    "cv2.destroyAllWindows()"
   ]
  },
  {
   "cell_type": "markdown",
   "metadata": {},
   "source": [
    "## header"
   ]
  },
  {
   "cell_type": "code",
   "execution_count": 90,
   "metadata": {},
   "outputs": [],
   "source": [
    "# https://docs.opencv.org/2.4/modules/imgproc/doc/structural_analysis_and_shape_descriptors.html\n",
    "# https://docs.opencv.org/master/d9/d8b/tutorial_py_contours_hierarchy.html"
   ]
  },
  {
   "cell_type": "code",
   "execution_count": 297,
   "metadata": {},
   "outputs": [],
   "source": [
    "header = img[:divisor_line, :]"
   ]
  },
  {
   "cell_type": "code",
   "execution_count": 263,
   "metadata": {},
   "outputs": [],
   "source": [
    "cv2.imshow(\"modelo\", header)\n",
    "cv2.waitKey(0)\n",
    "cv2.destroyAllWindows()"
   ]
  },
  {
   "cell_type": "code",
   "execution_count": 315,
   "metadata": {},
   "outputs": [],
   "source": [
    "contours, hierarchy = cv2.findContours(header, cv2.RETR_CCOMP, cv2.CHAIN_APPROX_SIMPLE)\n",
    "contours_area = []\n",
    "# hie = [h for h in hierarchy[0] if h[2] == -1 and h[3] == 0]\n",
    "\n",
    "\n",
    "header_colored = cv2.cvtColor(header, cv2.COLOR_GRAY2BGR)\n",
    "for contour in contours:\n",
    "#     approx = contour\n",
    "    peri = cv2.arcLength(contour, True)\n",
    "    approx = cv2.approxPolyDP(contour, 0.04 * peri, True)\n",
    "    contours_area.append((cv2.contourArea(approx), approx))\n",
    "    if contours_area[-1][0] > 300 and contours_area[-1][0] < 1000:\n",
    "        (x,y,w,h) = cv2.boundingRect(approx)\n",
    "        cv2.rectangle(header_colored, (x,y), (x+w,y+h), (255,0,0), 2)"
   ]
  },
  {
   "cell_type": "code",
   "execution_count": 316,
   "metadata": {},
   "outputs": [],
   "source": [
    "cv2.imshow(\"modelo\", header_colored)\n",
    "cv2.waitKey(0)\n",
    "cv2.destroyAllWindows()"
   ]
  },
  {
   "cell_type": "code",
   "execution_count": 193,
   "metadata": {},
   "outputs": [],
   "source": [
    "# hierarchy"
   ]
  },
  {
   "cell_type": "code",
   "execution_count": 311,
   "metadata": {},
   "outputs": [
    {
     "data": {
      "text/plain": [
       "(96, 96)"
      ]
     },
     "execution_count": 311,
     "metadata": {},
     "output_type": "execute_result"
    }
   ],
   "source": [
    "len(contours), len(contours_area)"
   ]
  },
  {
   "cell_type": "code",
   "execution_count": 312,
   "metadata": {},
   "outputs": [],
   "source": [
    "areas = sorted([a for a, c in contours_area], reverse=True)\n",
    "contours_area = [ca for ca in contours_area if ca[0] > 600 and ca[0] < 1000]"
   ]
  },
  {
   "cell_type": "code",
   "execution_count": 314,
   "metadata": {},
   "outputs": [
    {
     "data": {
      "text/plain": [
       "[916.5,\n",
       " 893.0,\n",
       " 883.0,\n",
       " 880.5,\n",
       " 867.0,\n",
       " 865.5,\n",
       " 813.0,\n",
       " 808.5,\n",
       " 789.0,\n",
       " 761.0,\n",
       " 462.5,\n",
       " 315.0]"
      ]
     },
     "execution_count": 314,
     "metadata": {},
     "output_type": "execute_result"
    }
   ],
   "source": [
    "areas[1:13]"
   ]
  },
  {
   "cell_type": "code",
   "execution_count": 279,
   "metadata": {},
   "outputs": [],
   "source": [
    "header_colored = cv2.cvtColor(header, cv2.COLOR_GRAY2BGR)\n",
    "for _, cont in contours_area:\n",
    "    (x,y,w,h) = cv2.boundingRect(approx)\n",
    "    cv2.rectangle(header_colored, (x,y), (x+w,y+h), (255,0,0), 2)"
   ]
  },
  {
   "cell_type": "code",
   "execution_count": 221,
   "metadata": {},
   "outputs": [
    {
     "ename": "ValueError",
     "evalue": "The truth value of an array with more than one element is ambiguous. Use a.any() or a.all()",
     "output_type": "error",
     "traceback": [
      "\u001b[0;31m---------------------------------------------------------------------------\u001b[0m",
      "\u001b[0;31mValueError\u001b[0m                                Traceback (most recent call last)",
      "\u001b[0;32m<ipython-input-221-e927bb877d05>\u001b[0m in \u001b[0;36m<module>\u001b[0;34m\u001b[0m\n\u001b[0;32m----> 1\u001b[0;31m \u001b[0msorted\u001b[0m\u001b[0;34m(\u001b[0m\u001b[0mcontours_area\u001b[0m\u001b[0;34m,\u001b[0m \u001b[0mreverse\u001b[0m\u001b[0;34m=\u001b[0m\u001b[0;32mTrue\u001b[0m\u001b[0;34m)\u001b[0m\u001b[0;34m[\u001b[0m\u001b[0;36m1\u001b[0m\u001b[0;34m:\u001b[0m\u001b[0;36m14\u001b[0m\u001b[0;34m]\u001b[0m\u001b[0;34m\u001b[0m\u001b[0;34m\u001b[0m\u001b[0m\n\u001b[0m",
      "\u001b[0;31mValueError\u001b[0m: The truth value of an array with more than one element is ambiguous. Use a.any() or a.all()"
     ]
    }
   ],
   "source": [
    "sorted(contours_area, reverse=True)[1:14]"
   ]
  },
  {
   "cell_type": "code",
   "execution_count": 137,
   "metadata": {},
   "outputs": [
    {
     "data": {
      "text/plain": [
       "0.0"
      ]
     },
     "execution_count": 137,
     "metadata": {},
     "output_type": "execute_result"
    }
   ],
   "source": [
    "mode = max(set(contours_area), key=contours_area.count) # achando area moda\n",
    "\n",
    "boxes = [contour for contour, area in zip(contours, contours_area) if area == mode]\n",
    "mode"
   ]
  },
  {
   "cell_type": "code",
   "execution_count": 268,
   "metadata": {},
   "outputs": [],
   "source": [
    "header_colored = cv2.cvtColor(header, cv2.COLOR_GRAY2BGR)\n",
    "for box in boxes:\n",
    "    (x,y,w,h) = cv2.boundingRect(box)\n",
    "    cv2.rectangle(header_colored, (x,y), (x+w,y+h), (0,0,255), 2)"
   ]
  },
  {
   "cell_type": "code",
   "execution_count": 299,
   "metadata": {},
   "outputs": [],
   "source": [
    "cv2.imshow(\"modelo\", header_colored)\n",
    "cv2.waitKey(0)\n",
    "cv2.destroyAllWindows()"
   ]
  },
  {
   "cell_type": "code",
   "execution_count": 236,
   "metadata": {},
   "outputs": [],
   "source": [
    "from sklearn.cluster import KMeans\n",
    "\n",
    "areas = np.array(contours_area).reshape(-1, 1)\n",
    "# areas"
   ]
  },
  {
   "cell_type": "code",
   "execution_count": 247,
   "metadata": {},
   "outputs": [
    {
     "data": {
      "text/plain": [
       "(array([[ 13773.        ],\n",
       "        [158845.        ],\n",
       "        [   151.86363636],\n",
       "        [  1025.        ],\n",
       "        [  3708.        ],\n",
       "        [    16.17857143],\n",
       "        [   335.75      ],\n",
       "        [   100.16666667],\n",
       "        [   206.        ],\n",
       "        [   948.        ]]),\n",
       " array([5, 5, 5, 5, 7, 2, 3, 3, 3, 3, 3, 3, 3, 3, 3, 3, 3, 0, 9, 5, 5, 5,\n",
       "        7, 7, 7, 7, 5, 5, 5, 2, 5, 5, 7, 5, 2, 2, 2, 2, 2, 6, 8, 2, 8, 8,\n",
       "        8, 6, 6, 2, 2, 6, 2, 5, 4, 1], dtype=int32))"
      ]
     },
     "execution_count": 247,
     "metadata": {},
     "output_type": "execute_result"
    }
   ],
   "source": [
    "np.set_printoptions(suppress=True)\n",
    "kmeans = KMeans(n_clusters=10, random_state=0).fit(areas)\n",
    "\n",
    "kmeans.cluster_centers_, kmeans.labels_"
   ]
  },
  {
   "cell_type": "code",
   "execution_count": 248,
   "metadata": {},
   "outputs": [
    {
     "data": {
      "text/plain": [
       "{0: 1, 1: 1, 2: 11, 3: 11, 4: 1, 5: 14, 6: 4, 7: 6, 8: 4, 9: 1}"
      ]
     },
     "execution_count": 248,
     "metadata": {},
     "output_type": "execute_result"
    }
   ],
   "source": [
    "keys = set(kmeans.labels_)\n",
    "rep = {k: 0 for k in keys}\n",
    "\n",
    "for lbl in kmeans.labels_:\n",
    "    rep[lbl] = rep[lbl] + 1\n",
    "    \n",
    "rep"
   ]
  }
 ],
 "metadata": {
  "kernelspec": {
   "display_name": "Python 3",
   "language": "python",
   "name": "python3"
  },
  "language_info": {
   "codemirror_mode": {
    "name": "ipython",
    "version": 3
   },
   "file_extension": ".py",
   "mimetype": "text/x-python",
   "name": "python",
   "nbconvert_exporter": "python",
   "pygments_lexer": "ipython3",
   "version": "3.8.2"
  }
 },
 "nbformat": 4,
 "nbformat_minor": 4
}
